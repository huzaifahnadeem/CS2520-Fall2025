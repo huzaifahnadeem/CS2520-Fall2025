{
 "cells": [
  {
   "cell_type": "markdown",
   "metadata": {},
   "source": [
    "# FABRIC Setup"
   ]
  },
  {
   "cell_type": "markdown",
   "metadata": {},
   "source": [
    "In this notebook, you will pick up where you left off after creating a FABRIC account, joining a FABRIC project. Now, you will learn how to:\n",
    "\n",
    "-   Configure your Jupyter environment in FABRIC (this is a one-time configuration)\n",
    "-   Reserve resources on FABRIC\n",
    "-   Configure your reserved resources\n",
    "-   Access your reserved resources over SSH\n",
    "-   Retrieving files saved on a FABRIC resources\n",
    "-   Extend your FABRIC reservation (in case you need more time) or delete it (in case you finish early)"
   ]
  },
  {
   "cell_type": "markdown",
   "metadata": {},
   "source": [
    "### Configure your Jupyter environment\n",
    "\n",
    "You should now be inside the Jupyter environment in FABRIC. Before you use this environment for the first time, you’ll want to create some configuration files that tell it who you are, what project you belong to, and what key it should use to access your resource on FABRIC."
   ]
  },
  {
   "cell_type": "markdown",
   "metadata": {},
   "source": [
    "First, we will need to generate some keys! On FABRIC, we access the resources (hosts, switches, routers) in our experiment by connecting to a server known as a “bastion” over an SSH connection, and then connecting from the “bastion” to the device that we want to use. Both “hops” will be over SSH, a secure protocol for remote login, and both hops will use an SSH *key* for authentication. Using SSH key authentication to connect to a remote system is a more secure alternative to logging in with an account password."
   ]
  },
  {
   "cell_type": "markdown",
   "metadata": {},
   "source": [
    "SSH key authentication uses a pair of separate keys (i.e., a key pair): one “private” key, which you keep a secret, and the other “public”. A key pair has a special property: any message that is encrypted with your private key can only be decrypted with your public key, and any message that is encrypted with your public key can only be decrypted with your private key.\n",
    "\n",
    "This property can be exploited for authenticating login to a remote machine. First, the public key is uploaded to a specific location on the remote machine. Then, when you want to log in to the machine:\n",
    "\n",
    "1.  You use a special argument with your SSH command to let your SSH application know that you are going to use a key, and the location of your private key. If the private key is protected by a passphrase, you may be prompted to enter the passphrase (this is not a password for the remote machine, though).\n",
    "2.  The machine you are logging in to will ask your SSH client to “prove” that it owns the (secret) private key that matches an authorized public key. To do this, the machine will send a random message to you.\n",
    "3.  Your SSH client will encrypt the random message with the private key and send it back to the remote machine.\n",
    "4.  The remote machine will decrypt the message with your public key. If the decrypted message matches the message it sent you, it has “proof” that you are in possession of the private key for that key pair, and will grant you access (without using an account password on the remote machine.)\n",
    "\n",
    "(Of course, this relies on you keeping your private key a secret.)"
   ]
  },
  {
   "cell_type": "markdown",
   "metadata": {},
   "source": [
    "To access resources in our FABRIC experiments, we will use a “bastion key” to authenticate on the “hop” to the “bastion”, and then a “slice key” to authenticate on the hop from the “bastion” to the FABRIC resource. In this exercise, we’ll prepare both of those keys, then tell the FABRIC Jupyter environment where to find them and how to use them."
   ]
  },
  {
   "cell_type": "markdown",
   "metadata": {},
   "source": [
    "First, we will use the FABRIC Portal to generate the bastion key. In the [FABRIC Portal](https://portal.fabric-testbed.net/), log in and then click on “User Profile” in the menu bar at the top. Then, click “My SSH Keys” and “Manage SSH Keys”.\n",
    "\n",
    "![](images/fabric-manage-ssh-keys.png)"
   ]
  },
  {
   "cell_type": "markdown",
   "metadata": {},
   "source": [
    "Click on the “Bastion” tab, then scroll down to the “Generate Bastion Key Pair” section. Set the “Name” to `fabric_bastion_key`, exactly as shown here. You can write anything you want in the “Description” field.\n",
    "\n",
    "![](images/fabric-gen-bastion.png)\n",
    "\n",
    "Then, click “Generate”."
   ]
  },
  {
   "cell_type": "markdown",
   "metadata": {},
   "source": [
    "A small pop-up will show the following message:\n",
    "\n",
    "![](images/fabric-key-popup.png)\n",
    "\n",
    "Click on the “Download” button next to “Private Key” and click on the “Download” button next to “Public Key” to download *both* parts of your new SSH key pair.\n",
    "\n",
    "Find the two files, “fabric_bastion_key” and “fabric_bastion_key.pub” in your browser’s regular download folder. You will need these keys - make sure to save them in a safe place!"
   ]
  },
  {
   "cell_type": "markdown",
   "metadata": {},
   "source": [
    "Now, switch back to your Jupyter environment. In the sidebar on the left side of this environment is a file browser. You will see a directory named `fabric_config` there - double-click on it to navigate to this directory.\n",
    "\n",
    "![](images/jup-fabconfig-dir.png)"
   ]
  },
  {
   "cell_type": "markdown",
   "metadata": {},
   "source": [
    "You will see that the part of the interface that shows your current position in the filesystem (highlighted in blue in the image below) changes to reflect that you are inside the `fabric_config` directory. Then, click on the upload button (highlighted in green).\n",
    "\n",
    "![](images/jup-upload-keys.png)\n",
    "\n",
    "Upload the two files, “fabric_bastion_key” and “fabric_bastion_key.pub”, to this directory in the Jupyter environment."
   ]
  },
  {
   "cell_type": "markdown",
   "metadata": {},
   "source": [
    "You’re almost ready to finish configuring your Jupyter environment now! But first, you need to find two pieces of information from the FABRIC Portal.\n",
    "\n",
    "**Your bastion username**: In the FABRIC Portal, click on “User Profile” and then “My SSH Keys”. Find the “Bastion login” (shown highlighted in the image below) and make a note of it - you can click on the small icon right next to it to copy it, then paste it somewhere else.\n",
    "\n",
    "![](images/fabric-bastion-username.png)\n",
    "\n",
    "**Your project ID**: In the FABRIC Portal, click on “User Profile” and then “My Roles and Projects”. Select your project, then scroll down and find the “Project ID”, then copy it.\n",
    "\n",
    "![](images/fab-project-id.png)"
   ]
  },
  {
   "cell_type": "markdown",
   "metadata": {},
   "source": [
    "Now you are ready! In the following cell, fill in your bastion username and project ID instead of the `...`:"
   ]
  },
  {
   "cell_type": "code",
   "execution_count": 1,
   "metadata": {},
   "outputs": [
    {
     "name": "stdout",
     "output_type": "stream",
     "text": [
      "env: FABRIC_BASTION_USERNAME=hun13_0000132578\n",
      "env: FABRIC_PROJECT_ID=a045503e-d19d-434e-93b1-08b8aad3d5d1\n"
     ]
    }
   ],
   "source": [
    "%env FABRIC_BASTION_USERNAME hun13_0000132578\n",
    "%env FABRIC_PROJECT_ID a045503e-d19d-434e-93b1-08b8aad3d5d1"
   ]
  },
  {
   "cell_type": "markdown",
   "metadata": {},
   "source": [
    "We’ll keep all of our FABRIC configuration files at the default locations, specified in the next cell:"
   ]
  },
  {
   "cell_type": "code",
   "execution_count": 2,
   "metadata": {},
   "outputs": [
    {
     "name": "stdout",
     "output_type": "stream",
     "text": [
      "env: FABRIC_BASTION_PRIVATE_KEY_LOCATION=/home/fabric/work/fabric_config/fabric_bastion_key\n",
      "env: FABRIC_BASTION_SSH_CONFIG_FILE=/home/fabric/work/fabric_config/ssh_config\n",
      "env: FABRIC_RC_FILE=/home/fabric/work/fabric_config/fabric_rc\n",
      "env: FABRIC_TOKEN_FILE=/home/fabric/.tokens.json\n",
      "env: FABRIC_SLICE_PRIVATE_KEY_FILE=/home/fabric/work/fabric_config/slice_key\n",
      "env: FABRIC_SLICE_PUBLIC_KEY_FILE=/home/fabric/work/fabric_config/slice_key.pub\n"
     ]
    }
   ],
   "source": [
    "!mkdir -p /home/fabric/work/fabric_config\n",
    "%env FABRIC_BASTION_PRIVATE_KEY_LOCATION /home/fabric/work/fabric_config/fabric_bastion_key\n",
    "%env FABRIC_BASTION_SSH_CONFIG_FILE /home/fabric/work/fabric_config/ssh_config\n",
    "%env FABRIC_RC_FILE /home/fabric/work/fabric_config/fabric_rc\n",
    "%env FABRIC_TOKEN_FILE /home/fabric/.tokens.json\n",
    "%env FABRIC_SLICE_PRIVATE_KEY_FILE /home/fabric/work/fabric_config/slice_key\n",
    "%env FABRIC_SLICE_PUBLIC_KEY_FILE /home/fabric/work/fabric_config/slice_key.pub"
   ]
  },
  {
   "cell_type": "markdown",
   "metadata": {},
   "source": [
    "Now, we’ll generate a new “slice key” pair. (This is used on the “hop” from the bastion, to our FABRIC resources.)\n",
    "\n",
    "Note that this cell will appear to prompt you for a response (whether or not to overwrite the existing key pair), but a response will be sent automatically - you don’t have to do anything."
   ]
  },
  {
   "cell_type": "code",
   "execution_count": 3,
   "metadata": {},
   "outputs": [
    {
     "name": "stdout",
     "output_type": "stream",
     "text": [
      "/home/fabric/work/fabric_config/slice_key already exists.\n",
      "Overwrite (y/n)? "
     ]
    }
   ],
   "source": [
    "!ssh-keygen -t rsa -b 3072 -f $FABRIC_SLICE_PRIVATE_KEY_FILE -q -N \"\" <<< y"
   ]
  },
  {
   "cell_type": "markdown",
   "metadata": {},
   "source": [
    "and we’ll make sure the file permissions are set correctly on both private keys:"
   ]
  },
  {
   "cell_type": "code",
   "execution_count": 4,
   "metadata": {},
   "outputs": [],
   "source": [
    "%%bash\n",
    "chmod 600 ${FABRIC_BASTION_PRIVATE_KEY_LOCATION}\n",
    "chmod 600 ${FABRIC_SLICE_PRIVATE_KEY_FILE}"
   ]
  },
  {
   "cell_type": "markdown",
   "metadata": {},
   "source": [
    "The following cell creates the `fabric_rc` configuration file using the values specified above. In the future, when we use FABRIC, we will load our configuration from this file."
   ]
  },
  {
   "cell_type": "code",
   "execution_count": 5,
   "metadata": {},
   "outputs": [],
   "source": [
    "%%bash\n",
    "cat <<EOF > ${FABRIC_RC_FILE}\n",
    "export FABRIC_CREDMGR_HOST=cm.fabric-testbed.net\n",
    "export FABRIC_ORCHESTRATOR_HOST=orchestrator.fabric-testbed.net\n",
    "\n",
    "export FABRIC_PROJECT_ID=${FABRIC_PROJECT_ID}\n",
    "export FABRIC_TOKEN_LOCATION=${FABRIC_TOKEN_FILE}\n",
    "\n",
    "export FABRIC_BASTION_HOST=bastion.fabric-testbed.net\n",
    "export FABRIC_BASTION_USERNAME=${FABRIC_BASTION_USERNAME}\n",
    "\n",
    "export FABRIC_BASTION_KEY_LOCATION=${FABRIC_BASTION_PRIVATE_KEY_LOCATION}\n",
    "#export FABRIC_BASTION_KEY_PASSPHRASE=\n",
    "\n",
    "export FABRIC_SLICE_PRIVATE_KEY_FILE=${FABRIC_SLICE_PRIVATE_KEY_FILE}\n",
    "export FABRIC_SLICE_PUBLIC_KEY_FILE=${FABRIC_SLICE_PUBLIC_KEY_FILE} \n",
    "#export FABRIC_SLICE_PRIVATE_KEY_PASSPHRASE=\n",
    "\n",
    "export FABRIC_LOG_FILE=${HOME}/fablib.log\n",
    "export FABRIC_LOG_LEVEL=INFO \n",
    "\n",
    "export FABRIC_AVOID=''\n",
    "\n",
    "export FABRIC_SSH_COMMAND_LINE=\"ssh -i {{ _self_.private_ssh_key_file }} -F ${HOME}/work/fabric_config/ssh_config {{ _self_.username }}@{{ _self_.management_ip }}\"\n",
    "EOF"
   ]
  },
  {
   "cell_type": "markdown",
   "metadata": {},
   "source": [
    "Finally, we also create an SSH configuration file, which we’ll use in the future to access our FABRIC resources using SSH."
   ]
  },
  {
   "cell_type": "code",
   "execution_count": 6,
   "metadata": {},
   "outputs": [],
   "source": [
    "%%bash\n",
    "cat <<EOF > ${FABRIC_BASTION_SSH_CONFIG_FILE}\n",
    "UserKnownHostsFile /dev/null\n",
    "StrictHostKeyChecking no\n",
    "ServerAliveInterval 120 \n",
    "\n",
    "Host bastion.fabric-testbed.net\n",
    "     User ${FABRIC_BASTION_USERNAME}\n",
    "     ForwardAgent yes\n",
    "     Hostname %h\n",
    "     IdentityFile ${FABRIC_BASTION_PRIVATE_KEY_LOCATION}\n",
    "     IdentitiesOnly yes\n",
    "\n",
    "Host * !bastion.fabric-testbed.net\n",
    "     ProxyJump ${FABRIC_BASTION_USERNAME}@bastion.fabric-testbed.net:22\n",
    "EOF"
   ]
  },
  {
   "cell_type": "markdown",
   "metadata": {},
   "source": [
    "## Reserve resources\n",
    "\n",
    "In this exercise, we will reserve and use resources on FABRIC: two hosts on two different network segments, connected by a router. (Both the hosts and the router will be realized as Linux virtual machines.)\n",
    "\n",
    "This involves several steps -\n",
    "\n",
    "-   **Configure environment**: Now that you have configured your Jupyter environment on FABRIC, you can load it from the configuration file at the beginning of each experiment! Check the output of the following cell, and make sure it reflects your configuration (e.g. correct bastion hostname, etc.).\n",
    "-   **Define configuration for this experiment**: Next, you will define the configuration of the experiment, with all of the properties of the virtual machines, network interfaces, and networks that you will request from the FABRIC infrastructure.\n",
    "-   **Reserve resources**: At this stage, you are ready to reserve resources! You will construct a “slice” following the configuration you defined, and then submit it to FABRIC to build out on the physical infrastructure. (This may take some time.)\n",
    "-   **Configure resources**: Also following the configuration you defined, you will configure network interfaces on the resources, install software, or do other configuration tasks that are necessary for your experiment.\n",
    "-   **Draw the network topology**: We can visualize the network topology, including the names, MAC addresses, and IP addresses of each network interface, directly in this notebook.\n",
    "-   **Log in to resources**: Finally, you will get the SSH login details for each of the nodes in your topology."
   ]
  },
  {
   "cell_type": "markdown",
   "metadata": {},
   "source": [
    "### Configure environment"
   ]
  },
  {
   "cell_type": "code",
   "execution_count": 7,
   "metadata": {},
   "outputs": [
    {
     "name": "stdout",
     "output_type": "stream",
     "text": [
      "User: HUN13@pitt.edu bastion key is valid!\n",
      "Configuration is valid\n"
     ]
    },
    {
     "data": {
      "text/html": [
       "<style type=\"text/css\">\n",
       "#T_1b61f tr:nth-child(even) {\n",
       "  background: #dbf3ff;\n",
       "  color: #231f20;\n",
       "}\n",
       "#T_1b61f tr:nth-child(odd) {\n",
       "  background: #ffffff;\n",
       "  color: #231f20;\n",
       "}\n",
       "#T_1b61f caption {\n",
       "  text-align: center;\n",
       "  font-size: 150%;\n",
       "}\n",
       "#T_1b61f_row0_col0, #T_1b61f_row0_col1, #T_1b61f_row1_col0, #T_1b61f_row1_col1, #T_1b61f_row2_col0, #T_1b61f_row2_col1, #T_1b61f_row3_col0, #T_1b61f_row3_col1, #T_1b61f_row4_col0, #T_1b61f_row4_col1, #T_1b61f_row5_col0, #T_1b61f_row5_col1, #T_1b61f_row6_col0, #T_1b61f_row6_col1, #T_1b61f_row7_col0, #T_1b61f_row7_col1, #T_1b61f_row8_col0, #T_1b61f_row8_col1, #T_1b61f_row9_col0, #T_1b61f_row9_col1, #T_1b61f_row10_col0, #T_1b61f_row10_col1, #T_1b61f_row11_col0, #T_1b61f_row11_col1, #T_1b61f_row12_col0, #T_1b61f_row12_col1, #T_1b61f_row13_col0, #T_1b61f_row13_col1, #T_1b61f_row14_col0, #T_1b61f_row14_col1, #T_1b61f_row15_col0, #T_1b61f_row15_col1, #T_1b61f_row16_col0, #T_1b61f_row16_col1, #T_1b61f_row17_col0, #T_1b61f_row17_col1, #T_1b61f_row18_col0, #T_1b61f_row18_col1, #T_1b61f_row19_col0, #T_1b61f_row19_col1 {\n",
       "  text-align: left;\n",
       "  border: 1px #231f20 solid !important;\n",
       "  overwrite: False;\n",
       "}\n",
       "</style>\n",
       "<table id=\"T_1b61f\">\n",
       "  <caption>FABlib Config</caption>\n",
       "  <thead>\n",
       "  </thead>\n",
       "  <tbody>\n",
       "    <tr>\n",
       "      <td id=\"T_1b61f_row0_col0\" class=\"data row0 col0\" >Credential Manager</td>\n",
       "      <td id=\"T_1b61f_row0_col1\" class=\"data row0 col1\" >cm.fabric-testbed.net</td>\n",
       "    </tr>\n",
       "    <tr>\n",
       "      <td id=\"T_1b61f_row1_col0\" class=\"data row1 col0\" >Orchestrator</td>\n",
       "      <td id=\"T_1b61f_row1_col1\" class=\"data row1 col1\" >orchestrator.fabric-testbed.net</td>\n",
       "    </tr>\n",
       "    <tr>\n",
       "      <td id=\"T_1b61f_row2_col0\" class=\"data row2 col0\" >Project ID</td>\n",
       "      <td id=\"T_1b61f_row2_col1\" class=\"data row2 col1\" >a045503e-d19d-434e-93b1-08b8aad3d5d1</td>\n",
       "    </tr>\n",
       "    <tr>\n",
       "      <td id=\"T_1b61f_row3_col0\" class=\"data row3 col0\" >Token File</td>\n",
       "      <td id=\"T_1b61f_row3_col1\" class=\"data row3 col1\" >/home/fabric/.tokens.json</td>\n",
       "    </tr>\n",
       "    <tr>\n",
       "      <td id=\"T_1b61f_row4_col0\" class=\"data row4 col0\" >Bastion Host</td>\n",
       "      <td id=\"T_1b61f_row4_col1\" class=\"data row4 col1\" >bastion.fabric-testbed.net</td>\n",
       "    </tr>\n",
       "    <tr>\n",
       "      <td id=\"T_1b61f_row5_col0\" class=\"data row5 col0\" >Bastion Username</td>\n",
       "      <td id=\"T_1b61f_row5_col1\" class=\"data row5 col1\" >hun13_0000132578</td>\n",
       "    </tr>\n",
       "    <tr>\n",
       "      <td id=\"T_1b61f_row6_col0\" class=\"data row6 col0\" >Bastion Private Key File</td>\n",
       "      <td id=\"T_1b61f_row6_col1\" class=\"data row6 col1\" >/home/fabric/work/fabric_config/fabric_bastion_key</td>\n",
       "    </tr>\n",
       "    <tr>\n",
       "      <td id=\"T_1b61f_row7_col0\" class=\"data row7 col0\" >Slice Private Key File</td>\n",
       "      <td id=\"T_1b61f_row7_col1\" class=\"data row7 col1\" >/home/fabric/work/fabric_config/slice_key</td>\n",
       "    </tr>\n",
       "    <tr>\n",
       "      <td id=\"T_1b61f_row8_col0\" class=\"data row8 col0\" >Slice Public Key File</td>\n",
       "      <td id=\"T_1b61f_row8_col1\" class=\"data row8 col1\" >/home/fabric/work/fabric_config/slice_key.pub</td>\n",
       "    </tr>\n",
       "    <tr>\n",
       "      <td id=\"T_1b61f_row9_col0\" class=\"data row9 col0\" >Log File</td>\n",
       "      <td id=\"T_1b61f_row9_col1\" class=\"data row9 col1\" >/tmp/fablib/fablib.log</td>\n",
       "    </tr>\n",
       "    <tr>\n",
       "      <td id=\"T_1b61f_row10_col0\" class=\"data row10 col0\" >Log Level</td>\n",
       "      <td id=\"T_1b61f_row10_col1\" class=\"data row10 col1\" >INFO</td>\n",
       "    </tr>\n",
       "    <tr>\n",
       "      <td id=\"T_1b61f_row11_col0\" class=\"data row11 col0\" >Sites to avoid</td>\n",
       "      <td id=\"T_1b61f_row11_col1\" class=\"data row11 col1\" ></td>\n",
       "    </tr>\n",
       "    <tr>\n",
       "      <td id=\"T_1b61f_row12_col0\" class=\"data row12 col0\" >SSH Command Line</td>\n",
       "      <td id=\"T_1b61f_row12_col1\" class=\"data row12 col1\" >ssh -i {{ _self_.private_ssh_key_file }} -F /home/fabric/work/fabric_config/ssh_config {{ _self_.username }}@{{ _self_.management_ip }}</td>\n",
       "    </tr>\n",
       "    <tr>\n",
       "      <td id=\"T_1b61f_row13_col0\" class=\"data row13 col0\" >Version</td>\n",
       "      <td id=\"T_1b61f_row13_col1\" class=\"data row13 col1\" >1.9.0</td>\n",
       "    </tr>\n",
       "    <tr>\n",
       "      <td id=\"T_1b61f_row14_col0\" class=\"data row14 col0\" >Data directory</td>\n",
       "      <td id=\"T_1b61f_row14_col1\" class=\"data row14 col1\" >/tmp/fablib</td>\n",
       "    </tr>\n",
       "    <tr>\n",
       "      <td id=\"T_1b61f_row15_col0\" class=\"data row15 col0\" >Core API</td>\n",
       "      <td id=\"T_1b61f_row15_col1\" class=\"data row15 col1\" >uis.fabric-testbed.net</td>\n",
       "    </tr>\n",
       "    <tr>\n",
       "      <td id=\"T_1b61f_row16_col0\" class=\"data row16 col0\" >Artifact Manager</td>\n",
       "      <td id=\"T_1b61f_row16_col1\" class=\"data row16 col1\" >artifacts.fabric-testbed.net</td>\n",
       "    </tr>\n",
       "    <tr>\n",
       "      <td id=\"T_1b61f_row17_col0\" class=\"data row17 col0\" >Bastion SSH Config File</td>\n",
       "      <td id=\"T_1b61f_row17_col1\" class=\"data row17 col1\" >/home/fabric/work/fabric_config/ssh_config</td>\n",
       "    </tr>\n",
       "    <tr>\n",
       "      <td id=\"T_1b61f_row18_col0\" class=\"data row18 col0\" >Fabric Meta Data Release Tag</td>\n",
       "      <td id=\"T_1b61f_row18_col1\" class=\"data row18 col1\" >main</td>\n",
       "    </tr>\n",
       "    <tr>\n",
       "      <td id=\"T_1b61f_row19_col0\" class=\"data row19 col0\" >Project Name</td>\n",
       "      <td id=\"T_1b61f_row19_col1\" class=\"data row19 col1\" >CS 2520 Fall 2025</td>\n",
       "    </tr>\n",
       "  </tbody>\n",
       "</table>\n"
      ],
      "text/plain": [
       "<pandas.io.formats.style.Styler at 0x7bd08fec2b50>"
      ]
     },
     "metadata": {},
     "output_type": "display_data"
    }
   ],
   "source": [
    "from fabrictestbed_extensions.fablib.fablib import FablibManager as fablib_manager\n",
    "fablib = fablib_manager() \n",
    "conf = fablib.show_config()"
   ]
  },
  {
   "cell_type": "markdown",
   "metadata": {},
   "source": [
    "### Define configuration for this experiment"
   ]
  },
  {
   "cell_type": "code",
   "execution_count": 8,
   "metadata": {},
   "outputs": [],
   "source": [
    "slice_name=\"hello-fabric_\" + fablib.get_bastion_username()\n",
    "\n",
    "node_conf = [\n",
    " {'name': \"romeo\",   'cores': 2, 'ram': 4, 'disk': 10, 'image': 'default_ubuntu_22', 'packages': ['net-tools']}, \n",
    " {'name': \"juliet\",  'cores': 2, 'ram': 4, 'disk': 10, 'image': 'default_ubuntu_22', 'packages': ['net-tools']}, \n",
    " {'name': \"router\",  'cores': 2, 'ram': 4, 'disk': 10, 'image': 'default_ubuntu_22', 'packages': ['net-tools']}\n",
    "]\n",
    "net_conf = [\n",
    " {\"name\": \"net0\", \"subnet\": \"10.0.0.0/24\", \"nodes\": [{\"name\": \"romeo\",   \"addr\": \"10.0.0.2\"}, {\"name\": \"router\", \"addr\": \"10.0.0.1\"}]},\n",
    " {\"name\": \"net1\", \"subnet\": \"10.0.1.0/24\", \"nodes\": [{\"name\": \"juliet\",   \"addr\": \"10.0.1.2\"}, {\"name\": \"router\", \"addr\": \"10.0.1.1\"}]}\n",
    "]\n",
    "route_conf = [\n",
    " {\"addr\": \"10.0.1.0/24\", \"gw\": \"10.0.0.1\", \"nodes\": [\"romeo\"]}, \n",
    " {\"addr\": \"10.0.0.0/24\", \"gw\": \"10.0.1.1\", \"nodes\": [\"juliet\"]}\n",
    "]\n",
    "exp_conf = {'cores': sum([ n['cores'] for n in node_conf]), 'nic': sum([len(n['nodes']) for n in net_conf]) }"
   ]
  },
  {
   "cell_type": "markdown",
   "metadata": {},
   "source": [
    "### Reserve resources\n",
    "\n",
    "Now, we are ready to reserve resources!"
   ]
  },
  {
   "cell_type": "markdown",
   "metadata": {},
   "source": [
    "First, make sure you don’t already have a slice with this name:"
   ]
  },
  {
   "cell_type": "code",
   "execution_count": 9,
   "metadata": {},
   "outputs": [
    {
     "name": "stdout",
     "output_type": "stream",
     "text": [
      "You don't have a slice named hello-fabric_hun13_0000132578 yet.\n",
      "Continue to the next step to make one.\n"
     ]
    }
   ],
   "source": [
    "try:\n",
    "    slice = fablib.get_slice(slice_name)\n",
    "    print(\"You already have a slice by this name!\")\n",
    "    print(\"If you previously reserved resources, skip to the 'log in to resources' section.\")\n",
    "except:\n",
    "    print(\"You don't have a slice named %s yet.\" % slice_name)\n",
    "    print(\"Continue to the next step to make one.\")\n",
    "    slice = fablib.new_slice(name=slice_name)"
   ]
  },
  {
   "cell_type": "markdown",
   "metadata": {},
   "source": [
    "We will reserve resources for our experiment at the EDUKY site:"
   ]
  },
  {
   "cell_type": "code",
   "execution_count": 10,
   "metadata": {},
   "outputs": [
    {
     "data": {
      "text/html": [
       "<style type=\"text/css\">\n",
       "#T_25282 tr:nth-child(even) {\n",
       "  background: #dbf3ff;\n",
       "  color: #231f20;\n",
       "}\n",
       "#T_25282 tr:nth-child(odd) {\n",
       "  background: #ffffff;\n",
       "  color: #231f20;\n",
       "}\n",
       "#T_25282 caption {\n",
       "  text-align: center;\n",
       "  font-size: 150%;\n",
       "}\n",
       "#T_25282_row0_col0, #T_25282_row0_col1, #T_25282_row1_col0, #T_25282_row1_col1, #T_25282_row2_col0, #T_25282_row2_col1, #T_25282_row3_col0, #T_25282_row3_col1, #T_25282_row4_col0, #T_25282_row4_col1, #T_25282_row5_col0, #T_25282_row5_col1, #T_25282_row6_col0, #T_25282_row6_col1, #T_25282_row7_col0, #T_25282_row7_col1, #T_25282_row8_col0, #T_25282_row8_col1, #T_25282_row9_col0, #T_25282_row9_col1, #T_25282_row10_col0, #T_25282_row10_col1, #T_25282_row11_col0, #T_25282_row11_col1, #T_25282_row12_col0, #T_25282_row12_col1, #T_25282_row13_col0, #T_25282_row13_col1, #T_25282_row14_col0, #T_25282_row14_col1, #T_25282_row15_col0, #T_25282_row15_col1, #T_25282_row16_col0, #T_25282_row16_col1, #T_25282_row17_col0, #T_25282_row17_col1, #T_25282_row18_col0, #T_25282_row18_col1, #T_25282_row19_col0, #T_25282_row19_col1, #T_25282_row20_col0, #T_25282_row20_col1, #T_25282_row21_col0, #T_25282_row21_col1, #T_25282_row22_col0, #T_25282_row22_col1, #T_25282_row23_col0, #T_25282_row23_col1, #T_25282_row24_col0, #T_25282_row24_col1, #T_25282_row25_col0, #T_25282_row25_col1, #T_25282_row26_col0, #T_25282_row26_col1, #T_25282_row27_col0, #T_25282_row27_col1, #T_25282_row28_col0, #T_25282_row28_col1, #T_25282_row29_col0, #T_25282_row29_col1, #T_25282_row30_col0, #T_25282_row30_col1, #T_25282_row31_col0, #T_25282_row31_col1, #T_25282_row32_col0, #T_25282_row32_col1, #T_25282_row33_col0, #T_25282_row33_col1, #T_25282_row34_col0, #T_25282_row34_col1, #T_25282_row35_col0, #T_25282_row35_col1, #T_25282_row36_col0, #T_25282_row36_col1, #T_25282_row37_col0, #T_25282_row37_col1, #T_25282_row38_col0, #T_25282_row38_col1, #T_25282_row39_col0, #T_25282_row39_col1, #T_25282_row40_col0, #T_25282_row40_col1, #T_25282_row41_col0, #T_25282_row41_col1, #T_25282_row42_col0, #T_25282_row42_col1, #T_25282_row43_col0, #T_25282_row43_col1, #T_25282_row44_col0, #T_25282_row44_col1, #T_25282_row45_col0, #T_25282_row45_col1, #T_25282_row46_col0, #T_25282_row46_col1, #T_25282_row47_col0, #T_25282_row47_col1, #T_25282_row48_col0, #T_25282_row48_col1, #T_25282_row49_col0, #T_25282_row49_col1, #T_25282_row50_col0, #T_25282_row50_col1, #T_25282_row51_col0, #T_25282_row51_col1, #T_25282_row52_col0, #T_25282_row52_col1, #T_25282_row53_col0, #T_25282_row53_col1, #T_25282_row54_col0, #T_25282_row54_col1, #T_25282_row55_col0, #T_25282_row55_col1, #T_25282_row56_col0, #T_25282_row56_col1, #T_25282_row57_col0, #T_25282_row57_col1 {\n",
       "  text-align: left;\n",
       "  border: 1px #231f20 solid !important;\n",
       "  overwrite: False;\n",
       "}\n",
       "</style>\n",
       "<table id=\"T_25282\">\n",
       "  <caption>Site</caption>\n",
       "  <thead>\n",
       "  </thead>\n",
       "  <tbody>\n",
       "    <tr>\n",
       "      <td id=\"T_25282_row0_col0\" class=\"data row0 col0\" >Name</td>\n",
       "      <td id=\"T_25282_row0_col1\" class=\"data row0 col1\" >EDUKY</td>\n",
       "    </tr>\n",
       "    <tr>\n",
       "      <td id=\"T_25282_row1_col0\" class=\"data row1 col0\" >State</td>\n",
       "      <td id=\"T_25282_row1_col1\" class=\"data row1 col1\" >Active</td>\n",
       "    </tr>\n",
       "    <tr>\n",
       "      <td id=\"T_25282_row2_col0\" class=\"data row2 col0\" >Address</td>\n",
       "      <td id=\"T_25282_row2_col1\" class=\"data row2 col1\" >301 Hilltop Avenue,Lexington, KY 40506</td>\n",
       "    </tr>\n",
       "    <tr>\n",
       "      <td id=\"T_25282_row3_col0\" class=\"data row3 col0\" >Location</td>\n",
       "      <td id=\"T_25282_row3_col1\" class=\"data row3 col1\" >(38.0325, -84.502801)</td>\n",
       "    </tr>\n",
       "    <tr>\n",
       "      <td id=\"T_25282_row4_col0\" class=\"data row4 col0\" >PTP Capable</td>\n",
       "      <td id=\"T_25282_row4_col1\" class=\"data row4 col1\" >True</td>\n",
       "    </tr>\n",
       "    <tr>\n",
       "      <td id=\"T_25282_row5_col0\" class=\"data row5 col0\" >Hosts</td>\n",
       "      <td id=\"T_25282_row5_col1\" class=\"data row5 col1\" >18</td>\n",
       "    </tr>\n",
       "    <tr>\n",
       "      <td id=\"T_25282_row6_col0\" class=\"data row6 col0\" >CPUs</td>\n",
       "      <td id=\"T_25282_row6_col1\" class=\"data row6 col1\" >36</td>\n",
       "    </tr>\n",
       "    <tr>\n",
       "      <td id=\"T_25282_row7_col0\" class=\"data row7 col0\" >Cores Available</td>\n",
       "      <td id=\"T_25282_row7_col1\" class=\"data row7 col1\" >73728</td>\n",
       "    </tr>\n",
       "    <tr>\n",
       "      <td id=\"T_25282_row8_col0\" class=\"data row8 col0\" >Cores Capacity</td>\n",
       "      <td id=\"T_25282_row8_col1\" class=\"data row8 col1\" >73728</td>\n",
       "    </tr>\n",
       "    <tr>\n",
       "      <td id=\"T_25282_row9_col0\" class=\"data row9 col0\" >Cores Allocated</td>\n",
       "      <td id=\"T_25282_row9_col1\" class=\"data row9 col1\" >0</td>\n",
       "    </tr>\n",
       "    <tr>\n",
       "      <td id=\"T_25282_row10_col0\" class=\"data row10 col0\" >Ram Available</td>\n",
       "      <td id=\"T_25282_row10_col1\" class=\"data row10 col1\" >8604</td>\n",
       "    </tr>\n",
       "    <tr>\n",
       "      <td id=\"T_25282_row11_col0\" class=\"data row11 col0\" >Ram Capacity</td>\n",
       "      <td id=\"T_25282_row11_col1\" class=\"data row11 col1\" >8604</td>\n",
       "    </tr>\n",
       "    <tr>\n",
       "      <td id=\"T_25282_row12_col0\" class=\"data row12 col0\" >Ram Allocated</td>\n",
       "      <td id=\"T_25282_row12_col1\" class=\"data row12 col1\" >0</td>\n",
       "    </tr>\n",
       "    <tr>\n",
       "      <td id=\"T_25282_row13_col0\" class=\"data row13 col0\" >Disk Available</td>\n",
       "      <td id=\"T_25282_row13_col1\" class=\"data row13 col1\" >134082</td>\n",
       "    </tr>\n",
       "    <tr>\n",
       "      <td id=\"T_25282_row14_col0\" class=\"data row14 col0\" >Disk Capacity</td>\n",
       "      <td id=\"T_25282_row14_col1\" class=\"data row14 col1\" >134082</td>\n",
       "    </tr>\n",
       "    <tr>\n",
       "      <td id=\"T_25282_row15_col0\" class=\"data row15 col0\" >Disk Allocated</td>\n",
       "      <td id=\"T_25282_row15_col1\" class=\"data row15 col1\" >0</td>\n",
       "    </tr>\n",
       "    <tr>\n",
       "      <td id=\"T_25282_row16_col0\" class=\"data row16 col0\" >Basic NIC Available</td>\n",
       "      <td id=\"T_25282_row16_col1\" class=\"data row16 col1\" >4445</td>\n",
       "    </tr>\n",
       "    <tr>\n",
       "      <td id=\"T_25282_row17_col0\" class=\"data row17 col0\" >Basic NIC Capacity</td>\n",
       "      <td id=\"T_25282_row17_col1\" class=\"data row17 col1\" >4445</td>\n",
       "    </tr>\n",
       "    <tr>\n",
       "      <td id=\"T_25282_row18_col0\" class=\"data row18 col0\" >Basic NIC Allocated</td>\n",
       "      <td id=\"T_25282_row18_col1\" class=\"data row18 col1\" >0</td>\n",
       "    </tr>\n",
       "    <tr>\n",
       "      <td id=\"T_25282_row19_col0\" class=\"data row19 col0\" >P4-Switch Available</td>\n",
       "      <td id=\"T_25282_row19_col1\" class=\"data row19 col1\" >0</td>\n",
       "    </tr>\n",
       "    <tr>\n",
       "      <td id=\"T_25282_row20_col0\" class=\"data row20 col0\" >P4-Switch Capacity</td>\n",
       "      <td id=\"T_25282_row20_col1\" class=\"data row20 col1\" >0</td>\n",
       "    </tr>\n",
       "    <tr>\n",
       "      <td id=\"T_25282_row21_col0\" class=\"data row21 col0\" >P4-Switch Allocated</td>\n",
       "      <td id=\"T_25282_row21_col1\" class=\"data row21 col1\" >0</td>\n",
       "    </tr>\n",
       "    <tr>\n",
       "      <td id=\"T_25282_row22_col0\" class=\"data row22 col0\" >ConnectX-6 Available</td>\n",
       "      <td id=\"T_25282_row22_col1\" class=\"data row22 col1\" >0</td>\n",
       "    </tr>\n",
       "    <tr>\n",
       "      <td id=\"T_25282_row23_col0\" class=\"data row23 col0\" >ConnectX-6 Capacity</td>\n",
       "      <td id=\"T_25282_row23_col1\" class=\"data row23 col1\" >0</td>\n",
       "    </tr>\n",
       "    <tr>\n",
       "      <td id=\"T_25282_row24_col0\" class=\"data row24 col0\" >ConnectX-6 Allocated</td>\n",
       "      <td id=\"T_25282_row24_col1\" class=\"data row24 col1\" >0</td>\n",
       "    </tr>\n",
       "    <tr>\n",
       "      <td id=\"T_25282_row25_col0\" class=\"data row25 col0\" >ConnectX-5 Available</td>\n",
       "      <td id=\"T_25282_row25_col1\" class=\"data row25 col1\" >0</td>\n",
       "    </tr>\n",
       "    <tr>\n",
       "      <td id=\"T_25282_row26_col0\" class=\"data row26 col0\" >ConnectX-5 Capacity</td>\n",
       "      <td id=\"T_25282_row26_col1\" class=\"data row26 col1\" >0</td>\n",
       "    </tr>\n",
       "    <tr>\n",
       "      <td id=\"T_25282_row27_col0\" class=\"data row27 col0\" >ConnectX-5 Allocated</td>\n",
       "      <td id=\"T_25282_row27_col1\" class=\"data row27 col1\" >0</td>\n",
       "    </tr>\n",
       "    <tr>\n",
       "      <td id=\"T_25282_row28_col0\" class=\"data row28 col0\" >ConnectX-7-100 Available</td>\n",
       "      <td id=\"T_25282_row28_col1\" class=\"data row28 col1\" >0</td>\n",
       "    </tr>\n",
       "    <tr>\n",
       "      <td id=\"T_25282_row29_col0\" class=\"data row29 col0\" >ConnectX-7-100 Capacity</td>\n",
       "      <td id=\"T_25282_row29_col1\" class=\"data row29 col1\" >0</td>\n",
       "    </tr>\n",
       "    <tr>\n",
       "      <td id=\"T_25282_row30_col0\" class=\"data row30 col0\" >ConnectX-7-100 Allocated</td>\n",
       "      <td id=\"T_25282_row30_col1\" class=\"data row30 col1\" >0</td>\n",
       "    </tr>\n",
       "    <tr>\n",
       "      <td id=\"T_25282_row31_col0\" class=\"data row31 col0\" >ConnectX-7-400 Available</td>\n",
       "      <td id=\"T_25282_row31_col1\" class=\"data row31 col1\" >0</td>\n",
       "    </tr>\n",
       "    <tr>\n",
       "      <td id=\"T_25282_row32_col0\" class=\"data row32 col0\" >ConnectX-7-400 Capacity</td>\n",
       "      <td id=\"T_25282_row32_col1\" class=\"data row32 col1\" >0</td>\n",
       "    </tr>\n",
       "    <tr>\n",
       "      <td id=\"T_25282_row33_col0\" class=\"data row33 col0\" >ConnectX-7-400 Allocated</td>\n",
       "      <td id=\"T_25282_row33_col1\" class=\"data row33 col1\" >0</td>\n",
       "    </tr>\n",
       "    <tr>\n",
       "      <td id=\"T_25282_row34_col0\" class=\"data row34 col0\" >BlueField2-ConnectX-6 Available</td>\n",
       "      <td id=\"T_25282_row34_col1\" class=\"data row34 col1\" >0</td>\n",
       "    </tr>\n",
       "    <tr>\n",
       "      <td id=\"T_25282_row35_col0\" class=\"data row35 col0\" >BlueField2-ConnectX-6 Capacity</td>\n",
       "      <td id=\"T_25282_row35_col1\" class=\"data row35 col1\" >0</td>\n",
       "    </tr>\n",
       "    <tr>\n",
       "      <td id=\"T_25282_row36_col0\" class=\"data row36 col0\" >BlueField2-ConnectX-6 Allocated</td>\n",
       "      <td id=\"T_25282_row36_col1\" class=\"data row36 col1\" >0</td>\n",
       "    </tr>\n",
       "    <tr>\n",
       "      <td id=\"T_25282_row37_col0\" class=\"data row37 col0\" >NVMe Available</td>\n",
       "      <td id=\"T_25282_row37_col1\" class=\"data row37 col1\" >0</td>\n",
       "    </tr>\n",
       "    <tr>\n",
       "      <td id=\"T_25282_row38_col0\" class=\"data row38 col0\" >NVMe Capacity</td>\n",
       "      <td id=\"T_25282_row38_col1\" class=\"data row38 col1\" >0</td>\n",
       "    </tr>\n",
       "    <tr>\n",
       "      <td id=\"T_25282_row39_col0\" class=\"data row39 col0\" >NVMe Allocated</td>\n",
       "      <td id=\"T_25282_row39_col1\" class=\"data row39 col1\" >0</td>\n",
       "    </tr>\n",
       "    <tr>\n",
       "      <td id=\"T_25282_row40_col0\" class=\"data row40 col0\" >Tesla T4 Available</td>\n",
       "      <td id=\"T_25282_row40_col1\" class=\"data row40 col1\" >0</td>\n",
       "    </tr>\n",
       "    <tr>\n",
       "      <td id=\"T_25282_row41_col0\" class=\"data row41 col0\" >Tesla T4 Capacity</td>\n",
       "      <td id=\"T_25282_row41_col1\" class=\"data row41 col1\" >0</td>\n",
       "    </tr>\n",
       "    <tr>\n",
       "      <td id=\"T_25282_row42_col0\" class=\"data row42 col0\" >Tesla T4 Allocated</td>\n",
       "      <td id=\"T_25282_row42_col1\" class=\"data row42 col1\" >0</td>\n",
       "    </tr>\n",
       "    <tr>\n",
       "      <td id=\"T_25282_row43_col0\" class=\"data row43 col0\" >RTX6000 Available</td>\n",
       "      <td id=\"T_25282_row43_col1\" class=\"data row43 col1\" >0</td>\n",
       "    </tr>\n",
       "    <tr>\n",
       "      <td id=\"T_25282_row44_col0\" class=\"data row44 col0\" >RTX6000 Capacity</td>\n",
       "      <td id=\"T_25282_row44_col1\" class=\"data row44 col1\" >0</td>\n",
       "    </tr>\n",
       "    <tr>\n",
       "      <td id=\"T_25282_row45_col0\" class=\"data row45 col0\" >RTX6000 Allocated</td>\n",
       "      <td id=\"T_25282_row45_col1\" class=\"data row45 col1\" >0</td>\n",
       "    </tr>\n",
       "    <tr>\n",
       "      <td id=\"T_25282_row46_col0\" class=\"data row46 col0\" >A30 Available</td>\n",
       "      <td id=\"T_25282_row46_col1\" class=\"data row46 col1\" >0</td>\n",
       "    </tr>\n",
       "    <tr>\n",
       "      <td id=\"T_25282_row47_col0\" class=\"data row47 col0\" >A30 Capacity</td>\n",
       "      <td id=\"T_25282_row47_col1\" class=\"data row47 col1\" >0</td>\n",
       "    </tr>\n",
       "    <tr>\n",
       "      <td id=\"T_25282_row48_col0\" class=\"data row48 col0\" >A30 Allocated</td>\n",
       "      <td id=\"T_25282_row48_col1\" class=\"data row48 col1\" >0</td>\n",
       "    </tr>\n",
       "    <tr>\n",
       "      <td id=\"T_25282_row49_col0\" class=\"data row49 col0\" >A40 Available</td>\n",
       "      <td id=\"T_25282_row49_col1\" class=\"data row49 col1\" >0</td>\n",
       "    </tr>\n",
       "    <tr>\n",
       "      <td id=\"T_25282_row50_col0\" class=\"data row50 col0\" >A40 Capacity</td>\n",
       "      <td id=\"T_25282_row50_col1\" class=\"data row50 col1\" >0</td>\n",
       "    </tr>\n",
       "    <tr>\n",
       "      <td id=\"T_25282_row51_col0\" class=\"data row51 col0\" >A40 Allocated</td>\n",
       "      <td id=\"T_25282_row51_col1\" class=\"data row51 col1\" >0</td>\n",
       "    </tr>\n",
       "    <tr>\n",
       "      <td id=\"T_25282_row52_col0\" class=\"data row52 col0\" >U280 Available</td>\n",
       "      <td id=\"T_25282_row52_col1\" class=\"data row52 col1\" >0</td>\n",
       "    </tr>\n",
       "    <tr>\n",
       "      <td id=\"T_25282_row53_col0\" class=\"data row53 col0\" >U280 Capacity</td>\n",
       "      <td id=\"T_25282_row53_col1\" class=\"data row53 col1\" >0</td>\n",
       "    </tr>\n",
       "    <tr>\n",
       "      <td id=\"T_25282_row54_col0\" class=\"data row54 col0\" >U280 Allocated</td>\n",
       "      <td id=\"T_25282_row54_col1\" class=\"data row54 col1\" >0</td>\n",
       "    </tr>\n",
       "    <tr>\n",
       "      <td id=\"T_25282_row55_col0\" class=\"data row55 col0\" >SN1022 Available</td>\n",
       "      <td id=\"T_25282_row55_col1\" class=\"data row55 col1\" >0</td>\n",
       "    </tr>\n",
       "    <tr>\n",
       "      <td id=\"T_25282_row56_col0\" class=\"data row56 col0\" >SN1022 Capacity</td>\n",
       "      <td id=\"T_25282_row56_col1\" class=\"data row56 col1\" >0</td>\n",
       "    </tr>\n",
       "    <tr>\n",
       "      <td id=\"T_25282_row57_col0\" class=\"data row57 col0\" >SN1022 Allocated</td>\n",
       "      <td id=\"T_25282_row57_col1\" class=\"data row57 col1\" >0</td>\n",
       "    </tr>\n",
       "  </tbody>\n",
       "</table>\n"
      ],
      "text/plain": [
       "<pandas.io.formats.style.Styler at 0x7bd0882f4950>"
      ]
     },
     "metadata": {},
     "output_type": "display_data"
    },
    {
     "data": {
      "text/plain": [
       "'<pandas.io.formats.style.Styler object at 0x7bd0882f4950>'"
      ]
     },
     "execution_count": 10,
     "metadata": {},
     "output_type": "execute_result"
    }
   ],
   "source": [
    "site_name = 'EDUKY'\n",
    "fablib.show_site(site_name)"
   ]
  },
  {
   "cell_type": "markdown",
   "metadata": {},
   "source": [
    "Then we will add hosts and network segments:"
   ]
  },
  {
   "cell_type": "code",
   "execution_count": 11,
   "metadata": {},
   "outputs": [],
   "source": [
    "# this cell sets up the nodes\n",
    "for n in node_conf:\n",
    "    slice.add_node(name=n['name'], site=site_name, \n",
    "                   cores=n['cores'], \n",
    "                   ram=n['ram'], \n",
    "                   disk=n['disk'], \n",
    "                   image=n['image'])"
   ]
  },
  {
   "cell_type": "code",
   "execution_count": 12,
   "metadata": {},
   "outputs": [],
   "source": [
    "# this cell sets up the network segments\n",
    "for n in net_conf:\n",
    "    ifaces = [slice.get_node(node[\"name\"]).add_component(model=\"NIC_Basic\", \n",
    "                                                 name=n[\"name\"]).get_interfaces()[0] for node in n['nodes'] ]\n",
    "    slice.add_l2network(name=n[\"name\"], type='L2Bridge', interfaces=ifaces)"
   ]
  },
  {
   "cell_type": "markdown",
   "metadata": {},
   "source": [
    "The following cell submits our request to the FABRIC site. The output of this cell will update automatically as the status of our request changes.\n",
    "\n",
    "-   While it is being prepared, the “State” of the slice will appear as “Configuring”.\n",
    "-   When it is ready, the “State” of the slice will change to “StableOK”.\n",
    "\n",
    "You may prefer to walk away and come back in a few minutes (for simple slices) or a few tens of minutes (for more complicated slices with many resources)."
   ]
  },
  {
   "cell_type": "code",
   "execution_count": 13,
   "metadata": {},
   "outputs": [
    {
     "name": "stdout",
     "output_type": "stream",
     "text": [
      "\n",
      "Retry: 9, Time: 234 sec\n"
     ]
    },
    {
     "data": {
      "text/html": [
       "<style type=\"text/css\">\n",
       "#T_a2d9d tr:nth-child(even) {\n",
       "  background: #dbf3ff;\n",
       "  color: #231f20;\n",
       "}\n",
       "#T_a2d9d tr:nth-child(odd) {\n",
       "  background: #ffffff;\n",
       "  color: #231f20;\n",
       "}\n",
       "#T_a2d9d caption {\n",
       "  text-align: center;\n",
       "  font-size: 150%;\n",
       "}\n",
       "#T_a2d9d_row0_col0, #T_a2d9d_row0_col1, #T_a2d9d_row1_col0, #T_a2d9d_row1_col1, #T_a2d9d_row2_col0, #T_a2d9d_row2_col1, #T_a2d9d_row3_col0, #T_a2d9d_row3_col1, #T_a2d9d_row4_col0, #T_a2d9d_row4_col1, #T_a2d9d_row5_col0, #T_a2d9d_row6_col0, #T_a2d9d_row6_col1, #T_a2d9d_row7_col0, #T_a2d9d_row7_col1 {\n",
       "  text-align: left;\n",
       "  border: 1px #231f20 solid !important;\n",
       "  overwrite: False;\n",
       "  background-color: ;\n",
       "}\n",
       "#T_a2d9d_row5_col1 {\n",
       "  text-align: left;\n",
       "  border: 1px #231f20 solid !important;\n",
       "  overwrite: False;\n",
       "  background-color: #c3ffc4;\n",
       "}\n",
       "</style>\n",
       "<table id=\"T_a2d9d\">\n",
       "  <caption>Slice</caption>\n",
       "  <thead>\n",
       "  </thead>\n",
       "  <tbody>\n",
       "    <tr>\n",
       "      <td id=\"T_a2d9d_row0_col0\" class=\"data row0 col0\" >ID</td>\n",
       "      <td id=\"T_a2d9d_row0_col1\" class=\"data row0 col1\" >ca9b224e-f300-448b-bf65-47067046646d</td>\n",
       "    </tr>\n",
       "    <tr>\n",
       "      <td id=\"T_a2d9d_row1_col0\" class=\"data row1 col0\" >Name</td>\n",
       "      <td id=\"T_a2d9d_row1_col1\" class=\"data row1 col1\" >hello-fabric_hun13_0000132578</td>\n",
       "    </tr>\n",
       "    <tr>\n",
       "      <td id=\"T_a2d9d_row2_col0\" class=\"data row2 col0\" >Lease Expiration (UTC)</td>\n",
       "      <td id=\"T_a2d9d_row2_col1\" class=\"data row2 col1\" >2025-08-21 19:05:33 +0000</td>\n",
       "    </tr>\n",
       "    <tr>\n",
       "      <td id=\"T_a2d9d_row3_col0\" class=\"data row3 col0\" >Lease Start (UTC)</td>\n",
       "      <td id=\"T_a2d9d_row3_col1\" class=\"data row3 col1\" >2025-08-20 19:05:33 +0000</td>\n",
       "    </tr>\n",
       "    <tr>\n",
       "      <td id=\"T_a2d9d_row4_col0\" class=\"data row4 col0\" >Project ID</td>\n",
       "      <td id=\"T_a2d9d_row4_col1\" class=\"data row4 col1\" >a045503e-d19d-434e-93b1-08b8aad3d5d1</td>\n",
       "    </tr>\n",
       "    <tr>\n",
       "      <td id=\"T_a2d9d_row5_col0\" class=\"data row5 col0\" >State</td>\n",
       "      <td id=\"T_a2d9d_row5_col1\" class=\"data row5 col1\" >StableOK</td>\n",
       "    </tr>\n",
       "    <tr>\n",
       "      <td id=\"T_a2d9d_row6_col0\" class=\"data row6 col0\" >Email</td>\n",
       "      <td id=\"T_a2d9d_row6_col1\" class=\"data row6 col1\" >HUN13@pitt.edu</td>\n",
       "    </tr>\n",
       "    <tr>\n",
       "      <td id=\"T_a2d9d_row7_col0\" class=\"data row7 col0\" >UserId</td>\n",
       "      <td id=\"T_a2d9d_row7_col1\" class=\"data row7 col1\" >0d94c21b-92a3-4e56-84de-be18169665eb</td>\n",
       "    </tr>\n",
       "  </tbody>\n",
       "</table>\n"
      ],
      "text/plain": [
       "<pandas.io.formats.style.Styler at 0x7bd07030a110>"
      ]
     },
     "metadata": {},
     "output_type": "display_data"
    },
    {
     "data": {
      "text/html": [
       "<style type=\"text/css\">\n",
       "#T_79b3b caption {\n",
       "  text-align: center;\n",
       "  font-size: 150%;\n",
       "  caption-side: top;\n",
       "}\n",
       "#T_79b3b th {\n",
       "  text-align: left;\n",
       "}\n",
       "#T_79b3b tr:nth-child(even) {\n",
       "  background: #ffffff;\n",
       "  color: #231f20;\n",
       "}\n",
       "#T_79b3b tr:nth-child(odd) {\n",
       "  background: #dbf3ff;\n",
       "  color: #231f20;\n",
       "}\n",
       "#T_79b3b .level0 {\n",
       "  border: 1px black solid !important;\n",
       "  background: #ffffff;\n",
       "  color: #231f20;\n",
       "}\n",
       "#T_79b3b_row0_col0, #T_79b3b_row0_col1, #T_79b3b_row0_col2, #T_79b3b_row0_col3, #T_79b3b_row0_col4, #T_79b3b_row0_col5, #T_79b3b_row0_col6, #T_79b3b_row0_col7, #T_79b3b_row0_col8, #T_79b3b_row0_col9, #T_79b3b_row0_col10, #T_79b3b_row0_col13, #T_79b3b_row0_col14, #T_79b3b_row0_col15, #T_79b3b_row1_col0, #T_79b3b_row1_col1, #T_79b3b_row1_col2, #T_79b3b_row1_col3, #T_79b3b_row1_col4, #T_79b3b_row1_col5, #T_79b3b_row1_col6, #T_79b3b_row1_col7, #T_79b3b_row1_col8, #T_79b3b_row1_col9, #T_79b3b_row1_col10, #T_79b3b_row1_col13, #T_79b3b_row1_col14, #T_79b3b_row1_col15, #T_79b3b_row2_col0, #T_79b3b_row2_col1, #T_79b3b_row2_col2, #T_79b3b_row2_col3, #T_79b3b_row2_col4, #T_79b3b_row2_col5, #T_79b3b_row2_col6, #T_79b3b_row2_col7, #T_79b3b_row2_col8, #T_79b3b_row2_col9, #T_79b3b_row2_col10, #T_79b3b_row2_col13, #T_79b3b_row2_col14, #T_79b3b_row2_col15 {\n",
       "  text-align: left;\n",
       "  border: 1px #231f20 solid !important;\n",
       "  overwrite: False;\n",
       "}\n",
       "#T_79b3b_row0_col11, #T_79b3b_row1_col11, #T_79b3b_row2_col11 {\n",
       "  text-align: left;\n",
       "  border: 1px #231f20 solid !important;\n",
       "  overwrite: False;\n",
       "  background-color: #c3ffc4;\n",
       "}\n",
       "#T_79b3b_row0_col12, #T_79b3b_row1_col12, #T_79b3b_row2_col12 {\n",
       "  text-align: left;\n",
       "  border: 1px #231f20 solid !important;\n",
       "  overwrite: False;\n",
       "  background-color: ;\n",
       "}\n",
       "</style>\n",
       "<table id=\"T_79b3b\">\n",
       "  <caption>Nodes</caption>\n",
       "  <thead>\n",
       "    <tr>\n",
       "      <th id=\"T_79b3b_level0_col0\" class=\"col_heading level0 col0\" >ID</th>\n",
       "      <th id=\"T_79b3b_level0_col1\" class=\"col_heading level0 col1\" >Name</th>\n",
       "      <th id=\"T_79b3b_level0_col2\" class=\"col_heading level0 col2\" >Cores</th>\n",
       "      <th id=\"T_79b3b_level0_col3\" class=\"col_heading level0 col3\" >RAM</th>\n",
       "      <th id=\"T_79b3b_level0_col4\" class=\"col_heading level0 col4\" >Disk</th>\n",
       "      <th id=\"T_79b3b_level0_col5\" class=\"col_heading level0 col5\" >Image</th>\n",
       "      <th id=\"T_79b3b_level0_col6\" class=\"col_heading level0 col6\" >Image Type</th>\n",
       "      <th id=\"T_79b3b_level0_col7\" class=\"col_heading level0 col7\" >Host</th>\n",
       "      <th id=\"T_79b3b_level0_col8\" class=\"col_heading level0 col8\" >Site</th>\n",
       "      <th id=\"T_79b3b_level0_col9\" class=\"col_heading level0 col9\" >Username</th>\n",
       "      <th id=\"T_79b3b_level0_col10\" class=\"col_heading level0 col10\" >Management IP</th>\n",
       "      <th id=\"T_79b3b_level0_col11\" class=\"col_heading level0 col11\" >State</th>\n",
       "      <th id=\"T_79b3b_level0_col12\" class=\"col_heading level0 col12\" >Error</th>\n",
       "      <th id=\"T_79b3b_level0_col13\" class=\"col_heading level0 col13\" >SSH Command</th>\n",
       "      <th id=\"T_79b3b_level0_col14\" class=\"col_heading level0 col14\" >Public SSH Key File</th>\n",
       "      <th id=\"T_79b3b_level0_col15\" class=\"col_heading level0 col15\" >Private SSH Key File</th>\n",
       "    </tr>\n",
       "  </thead>\n",
       "  <tbody>\n",
       "    <tr>\n",
       "      <td id=\"T_79b3b_row0_col0\" class=\"data row0 col0\" >beddcfc3-1b2d-4486-9aa8-1266107e7ced</td>\n",
       "      <td id=\"T_79b3b_row0_col1\" class=\"data row0 col1\" >juliet</td>\n",
       "      <td id=\"T_79b3b_row0_col2\" class=\"data row0 col2\" >2</td>\n",
       "      <td id=\"T_79b3b_row0_col3\" class=\"data row0 col3\" >4</td>\n",
       "      <td id=\"T_79b3b_row0_col4\" class=\"data row0 col4\" >10</td>\n",
       "      <td id=\"T_79b3b_row0_col5\" class=\"data row0 col5\" >default_ubuntu_22</td>\n",
       "      <td id=\"T_79b3b_row0_col6\" class=\"data row0 col6\" >qcow2</td>\n",
       "      <td id=\"T_79b3b_row0_col7\" class=\"data row0 col7\" >eduky-w16.fabric-testbed.net</td>\n",
       "      <td id=\"T_79b3b_row0_col8\" class=\"data row0 col8\" >EDUKY</td>\n",
       "      <td id=\"T_79b3b_row0_col9\" class=\"data row0 col9\" >ubuntu</td>\n",
       "      <td id=\"T_79b3b_row0_col10\" class=\"data row0 col10\" >2610:1e0:1700:206:f816:3eff:febe:c17c</td>\n",
       "      <td id=\"T_79b3b_row0_col11\" class=\"data row0 col11\" >Active</td>\n",
       "      <td id=\"T_79b3b_row0_col12\" class=\"data row0 col12\" ></td>\n",
       "      <td id=\"T_79b3b_row0_col13\" class=\"data row0 col13\" >ssh -i /home/fabric/work/fabric_config/slice_key -F /home/fabric/work/fabric_config/ssh_config ubuntu@2610:1e0:1700:206:f816:3eff:febe:c17c</td>\n",
       "      <td id=\"T_79b3b_row0_col14\" class=\"data row0 col14\" >/home/fabric/work/fabric_config/slice_key.pub</td>\n",
       "      <td id=\"T_79b3b_row0_col15\" class=\"data row0 col15\" >/home/fabric/work/fabric_config/slice_key</td>\n",
       "    </tr>\n",
       "    <tr>\n",
       "      <td id=\"T_79b3b_row1_col0\" class=\"data row1 col0\" >fe622b3b-017c-400f-8966-47a21da7f450</td>\n",
       "      <td id=\"T_79b3b_row1_col1\" class=\"data row1 col1\" >romeo</td>\n",
       "      <td id=\"T_79b3b_row1_col2\" class=\"data row1 col2\" >2</td>\n",
       "      <td id=\"T_79b3b_row1_col3\" class=\"data row1 col3\" >4</td>\n",
       "      <td id=\"T_79b3b_row1_col4\" class=\"data row1 col4\" >10</td>\n",
       "      <td id=\"T_79b3b_row1_col5\" class=\"data row1 col5\" >default_ubuntu_22</td>\n",
       "      <td id=\"T_79b3b_row1_col6\" class=\"data row1 col6\" >qcow2</td>\n",
       "      <td id=\"T_79b3b_row1_col7\" class=\"data row1 col7\" >eduky-w4.fabric-testbed.net</td>\n",
       "      <td id=\"T_79b3b_row1_col8\" class=\"data row1 col8\" >EDUKY</td>\n",
       "      <td id=\"T_79b3b_row1_col9\" class=\"data row1 col9\" >ubuntu</td>\n",
       "      <td id=\"T_79b3b_row1_col10\" class=\"data row1 col10\" >2610:1e0:1700:206:f816:3eff:fe59:556c</td>\n",
       "      <td id=\"T_79b3b_row1_col11\" class=\"data row1 col11\" >Active</td>\n",
       "      <td id=\"T_79b3b_row1_col12\" class=\"data row1 col12\" ></td>\n",
       "      <td id=\"T_79b3b_row1_col13\" class=\"data row1 col13\" >ssh -i /home/fabric/work/fabric_config/slice_key -F /home/fabric/work/fabric_config/ssh_config ubuntu@2610:1e0:1700:206:f816:3eff:fe59:556c</td>\n",
       "      <td id=\"T_79b3b_row1_col14\" class=\"data row1 col14\" >/home/fabric/work/fabric_config/slice_key.pub</td>\n",
       "      <td id=\"T_79b3b_row1_col15\" class=\"data row1 col15\" >/home/fabric/work/fabric_config/slice_key</td>\n",
       "    </tr>\n",
       "    <tr>\n",
       "      <td id=\"T_79b3b_row2_col0\" class=\"data row2 col0\" >cff3ced8-f8fc-4fec-8bcd-678c374140b2</td>\n",
       "      <td id=\"T_79b3b_row2_col1\" class=\"data row2 col1\" >router</td>\n",
       "      <td id=\"T_79b3b_row2_col2\" class=\"data row2 col2\" >2</td>\n",
       "      <td id=\"T_79b3b_row2_col3\" class=\"data row2 col3\" >4</td>\n",
       "      <td id=\"T_79b3b_row2_col4\" class=\"data row2 col4\" >10</td>\n",
       "      <td id=\"T_79b3b_row2_col5\" class=\"data row2 col5\" >default_ubuntu_22</td>\n",
       "      <td id=\"T_79b3b_row2_col6\" class=\"data row2 col6\" >qcow2</td>\n",
       "      <td id=\"T_79b3b_row2_col7\" class=\"data row2 col7\" >eduky-w6.fabric-testbed.net</td>\n",
       "      <td id=\"T_79b3b_row2_col8\" class=\"data row2 col8\" >EDUKY</td>\n",
       "      <td id=\"T_79b3b_row2_col9\" class=\"data row2 col9\" >ubuntu</td>\n",
       "      <td id=\"T_79b3b_row2_col10\" class=\"data row2 col10\" >2610:1e0:1700:206:f816:3eff:fe64:aed9</td>\n",
       "      <td id=\"T_79b3b_row2_col11\" class=\"data row2 col11\" >Active</td>\n",
       "      <td id=\"T_79b3b_row2_col12\" class=\"data row2 col12\" ></td>\n",
       "      <td id=\"T_79b3b_row2_col13\" class=\"data row2 col13\" >ssh -i /home/fabric/work/fabric_config/slice_key -F /home/fabric/work/fabric_config/ssh_config ubuntu@2610:1e0:1700:206:f816:3eff:fe64:aed9</td>\n",
       "      <td id=\"T_79b3b_row2_col14\" class=\"data row2 col14\" >/home/fabric/work/fabric_config/slice_key.pub</td>\n",
       "      <td id=\"T_79b3b_row2_col15\" class=\"data row2 col15\" >/home/fabric/work/fabric_config/slice_key</td>\n",
       "    </tr>\n",
       "  </tbody>\n",
       "</table>\n"
      ],
      "text/plain": [
       "<pandas.io.formats.style.Styler at 0x7bd0d008e5d0>"
      ]
     },
     "metadata": {},
     "output_type": "display_data"
    },
    {
     "data": {
      "text/html": [
       "<style type=\"text/css\">\n",
       "#T_e97b5 caption {\n",
       "  text-align: center;\n",
       "  font-size: 150%;\n",
       "  caption-side: top;\n",
       "}\n",
       "#T_e97b5 th {\n",
       "  text-align: left;\n",
       "}\n",
       "#T_e97b5 tr:nth-child(even) {\n",
       "  background: #ffffff;\n",
       "  color: #231f20;\n",
       "}\n",
       "#T_e97b5 tr:nth-child(odd) {\n",
       "  background: #dbf3ff;\n",
       "  color: #231f20;\n",
       "}\n",
       "#T_e97b5 .level0 {\n",
       "  border: 1px black solid !important;\n",
       "  background: #ffffff;\n",
       "  color: #231f20;\n",
       "}\n",
       "#T_e97b5_row0_col0, #T_e97b5_row0_col1, #T_e97b5_row0_col2, #T_e97b5_row0_col3, #T_e97b5_row0_col4, #T_e97b5_row0_col5, #T_e97b5_row0_col6, #T_e97b5_row1_col0, #T_e97b5_row1_col1, #T_e97b5_row1_col2, #T_e97b5_row1_col3, #T_e97b5_row1_col4, #T_e97b5_row1_col5, #T_e97b5_row1_col6 {\n",
       "  text-align: left;\n",
       "  border: 1px #231f20 solid !important;\n",
       "  overwrite: False;\n",
       "}\n",
       "#T_e97b5_row0_col7, #T_e97b5_row1_col7 {\n",
       "  text-align: left;\n",
       "  border: 1px #231f20 solid !important;\n",
       "  overwrite: False;\n",
       "  background-color: #c3ffc4;\n",
       "}\n",
       "#T_e97b5_row0_col8, #T_e97b5_row1_col8 {\n",
       "  text-align: left;\n",
       "  border: 1px #231f20 solid !important;\n",
       "  overwrite: False;\n",
       "  background-color: ;\n",
       "}\n",
       "</style>\n",
       "<table id=\"T_e97b5\">\n",
       "  <caption>Networks</caption>\n",
       "  <thead>\n",
       "    <tr>\n",
       "      <th id=\"T_e97b5_level0_col0\" class=\"col_heading level0 col0\" >ID</th>\n",
       "      <th id=\"T_e97b5_level0_col1\" class=\"col_heading level0 col1\" >Name</th>\n",
       "      <th id=\"T_e97b5_level0_col2\" class=\"col_heading level0 col2\" >Layer</th>\n",
       "      <th id=\"T_e97b5_level0_col3\" class=\"col_heading level0 col3\" >Type</th>\n",
       "      <th id=\"T_e97b5_level0_col4\" class=\"col_heading level0 col4\" >Site</th>\n",
       "      <th id=\"T_e97b5_level0_col5\" class=\"col_heading level0 col5\" >Subnet</th>\n",
       "      <th id=\"T_e97b5_level0_col6\" class=\"col_heading level0 col6\" >Gateway</th>\n",
       "      <th id=\"T_e97b5_level0_col7\" class=\"col_heading level0 col7\" >State</th>\n",
       "      <th id=\"T_e97b5_level0_col8\" class=\"col_heading level0 col8\" >Error</th>\n",
       "    </tr>\n",
       "  </thead>\n",
       "  <tbody>\n",
       "    <tr>\n",
       "      <td id=\"T_e97b5_row0_col0\" class=\"data row0 col0\" >100dd985-4b17-4b2d-b992-a441cb06be11</td>\n",
       "      <td id=\"T_e97b5_row0_col1\" class=\"data row0 col1\" >net0</td>\n",
       "      <td id=\"T_e97b5_row0_col2\" class=\"data row0 col2\" >L2</td>\n",
       "      <td id=\"T_e97b5_row0_col3\" class=\"data row0 col3\" >L2Bridge</td>\n",
       "      <td id=\"T_e97b5_row0_col4\" class=\"data row0 col4\" >EDUKY</td>\n",
       "      <td id=\"T_e97b5_row0_col5\" class=\"data row0 col5\" >None</td>\n",
       "      <td id=\"T_e97b5_row0_col6\" class=\"data row0 col6\" >None</td>\n",
       "      <td id=\"T_e97b5_row0_col7\" class=\"data row0 col7\" >Active</td>\n",
       "      <td id=\"T_e97b5_row0_col8\" class=\"data row0 col8\" ></td>\n",
       "    </tr>\n",
       "    <tr>\n",
       "      <td id=\"T_e97b5_row1_col0\" class=\"data row1 col0\" >9cfd5cca-57f1-4b4a-a7c9-62bdc0dd5739</td>\n",
       "      <td id=\"T_e97b5_row1_col1\" class=\"data row1 col1\" >net1</td>\n",
       "      <td id=\"T_e97b5_row1_col2\" class=\"data row1 col2\" >L2</td>\n",
       "      <td id=\"T_e97b5_row1_col3\" class=\"data row1 col3\" >L2Bridge</td>\n",
       "      <td id=\"T_e97b5_row1_col4\" class=\"data row1 col4\" >EDUKY</td>\n",
       "      <td id=\"T_e97b5_row1_col5\" class=\"data row1 col5\" >None</td>\n",
       "      <td id=\"T_e97b5_row1_col6\" class=\"data row1 col6\" >None</td>\n",
       "      <td id=\"T_e97b5_row1_col7\" class=\"data row1 col7\" >Active</td>\n",
       "      <td id=\"T_e97b5_row1_col8\" class=\"data row1 col8\" ></td>\n",
       "    </tr>\n",
       "  </tbody>\n",
       "</table>\n"
      ],
      "text/plain": [
       "<pandas.io.formats.style.Styler at 0x7bd0705244d0>"
      ]
     },
     "metadata": {},
     "output_type": "display_data"
    },
    {
     "data": {
      "text/html": [
       "<style type=\"text/css\">\n",
       "#T_f7a5d caption {\n",
       "  text-align: center;\n",
       "  font-size: 150%;\n",
       "  caption-side: top;\n",
       "}\n",
       "#T_f7a5d th {\n",
       "  text-align: left;\n",
       "}\n",
       "#T_f7a5d tr:nth-child(even) {\n",
       "  background: #ffffff;\n",
       "  color: #231f20;\n",
       "}\n",
       "#T_f7a5d tr:nth-child(odd) {\n",
       "  background: #dbf3ff;\n",
       "  color: #231f20;\n",
       "}\n",
       "#T_f7a5d .level0 {\n",
       "  border: 1px black solid !important;\n",
       "  background: #ffffff;\n",
       "  color: #231f20;\n",
       "}\n",
       "#T_f7a5d_row0_col0, #T_f7a5d_row0_col1, #T_f7a5d_row0_col2, #T_f7a5d_row0_col3, #T_f7a5d_row0_col4, #T_f7a5d_row0_col5, #T_f7a5d_row0_col6, #T_f7a5d_row0_col7, #T_f7a5d_row0_col8, #T_f7a5d_row0_col9, #T_f7a5d_row0_col10, #T_f7a5d_row0_col11, #T_f7a5d_row0_col12, #T_f7a5d_row1_col0, #T_f7a5d_row1_col1, #T_f7a5d_row1_col2, #T_f7a5d_row1_col3, #T_f7a5d_row1_col4, #T_f7a5d_row1_col5, #T_f7a5d_row1_col6, #T_f7a5d_row1_col7, #T_f7a5d_row1_col8, #T_f7a5d_row1_col9, #T_f7a5d_row1_col10, #T_f7a5d_row1_col11, #T_f7a5d_row1_col12, #T_f7a5d_row2_col0, #T_f7a5d_row2_col1, #T_f7a5d_row2_col2, #T_f7a5d_row2_col3, #T_f7a5d_row2_col4, #T_f7a5d_row2_col5, #T_f7a5d_row2_col6, #T_f7a5d_row2_col7, #T_f7a5d_row2_col8, #T_f7a5d_row2_col9, #T_f7a5d_row2_col10, #T_f7a5d_row2_col11, #T_f7a5d_row2_col12, #T_f7a5d_row3_col0, #T_f7a5d_row3_col1, #T_f7a5d_row3_col2, #T_f7a5d_row3_col3, #T_f7a5d_row3_col4, #T_f7a5d_row3_col5, #T_f7a5d_row3_col6, #T_f7a5d_row3_col7, #T_f7a5d_row3_col8, #T_f7a5d_row3_col9, #T_f7a5d_row3_col10, #T_f7a5d_row3_col11, #T_f7a5d_row3_col12 {\n",
       "  text-align: left;\n",
       "  border: 1px #231f20 solid !important;\n",
       "  overwrite: False;\n",
       "}\n",
       "</style>\n",
       "<table id=\"T_f7a5d\">\n",
       "  <caption>Interfaces</caption>\n",
       "  <thead>\n",
       "    <tr>\n",
       "      <th id=\"T_f7a5d_level0_col0\" class=\"col_heading level0 col0\" >Name</th>\n",
       "      <th id=\"T_f7a5d_level0_col1\" class=\"col_heading level0 col1\" >Short Name</th>\n",
       "      <th id=\"T_f7a5d_level0_col2\" class=\"col_heading level0 col2\" >Node</th>\n",
       "      <th id=\"T_f7a5d_level0_col3\" class=\"col_heading level0 col3\" >Network</th>\n",
       "      <th id=\"T_f7a5d_level0_col4\" class=\"col_heading level0 col4\" >Bandwidth</th>\n",
       "      <th id=\"T_f7a5d_level0_col5\" class=\"col_heading level0 col5\" >Mode</th>\n",
       "      <th id=\"T_f7a5d_level0_col6\" class=\"col_heading level0 col6\" >VLAN</th>\n",
       "      <th id=\"T_f7a5d_level0_col7\" class=\"col_heading level0 col7\" >MAC</th>\n",
       "      <th id=\"T_f7a5d_level0_col8\" class=\"col_heading level0 col8\" >Physical Device</th>\n",
       "      <th id=\"T_f7a5d_level0_col9\" class=\"col_heading level0 col9\" >Device</th>\n",
       "      <th id=\"T_f7a5d_level0_col10\" class=\"col_heading level0 col10\" >IP Address</th>\n",
       "      <th id=\"T_f7a5d_level0_col11\" class=\"col_heading level0 col11\" >Numa Node</th>\n",
       "      <th id=\"T_f7a5d_level0_col12\" class=\"col_heading level0 col12\" >Switch Port</th>\n",
       "    </tr>\n",
       "  </thead>\n",
       "  <tbody>\n",
       "    <tr>\n",
       "      <td id=\"T_f7a5d_row0_col0\" class=\"data row0 col0\" >romeo-net0-p1</td>\n",
       "      <td id=\"T_f7a5d_row0_col1\" class=\"data row0 col1\" >p1</td>\n",
       "      <td id=\"T_f7a5d_row0_col2\" class=\"data row0 col2\" >romeo</td>\n",
       "      <td id=\"T_f7a5d_row0_col3\" class=\"data row0 col3\" >net0</td>\n",
       "      <td id=\"T_f7a5d_row0_col4\" class=\"data row0 col4\" >100</td>\n",
       "      <td id=\"T_f7a5d_row0_col5\" class=\"data row0 col5\" >config</td>\n",
       "      <td id=\"T_f7a5d_row0_col6\" class=\"data row0 col6\" ></td>\n",
       "      <td id=\"T_f7a5d_row0_col7\" class=\"data row0 col7\" >02:03:DF:B6:AD:B3</td>\n",
       "      <td id=\"T_f7a5d_row0_col8\" class=\"data row0 col8\" >enp7s0</td>\n",
       "      <td id=\"T_f7a5d_row0_col9\" class=\"data row0 col9\" >enp7s0</td>\n",
       "      <td id=\"T_f7a5d_row0_col10\" class=\"data row0 col10\" >fe80::3:dfff:feb6:adb3</td>\n",
       "      <td id=\"T_f7a5d_row0_col11\" class=\"data row0 col11\" >1</td>\n",
       "      <td id=\"T_f7a5d_row0_col12\" class=\"data row0 col12\" >HundredGigE0/0/0/4</td>\n",
       "    </tr>\n",
       "    <tr>\n",
       "      <td id=\"T_f7a5d_row1_col0\" class=\"data row1 col0\" >juliet-net1-p1</td>\n",
       "      <td id=\"T_f7a5d_row1_col1\" class=\"data row1 col1\" >p1</td>\n",
       "      <td id=\"T_f7a5d_row1_col2\" class=\"data row1 col2\" >juliet</td>\n",
       "      <td id=\"T_f7a5d_row1_col3\" class=\"data row1 col3\" >net1</td>\n",
       "      <td id=\"T_f7a5d_row1_col4\" class=\"data row1 col4\" >100</td>\n",
       "      <td id=\"T_f7a5d_row1_col5\" class=\"data row1 col5\" >config</td>\n",
       "      <td id=\"T_f7a5d_row1_col6\" class=\"data row1 col6\" ></td>\n",
       "      <td id=\"T_f7a5d_row1_col7\" class=\"data row1 col7\" >02:65:5B:30:77:C2</td>\n",
       "      <td id=\"T_f7a5d_row1_col8\" class=\"data row1 col8\" >enp7s0</td>\n",
       "      <td id=\"T_f7a5d_row1_col9\" class=\"data row1 col9\" >enp7s0</td>\n",
       "      <td id=\"T_f7a5d_row1_col10\" class=\"data row1 col10\" >fe80::65:5bff:fe30:77c2</td>\n",
       "      <td id=\"T_f7a5d_row1_col11\" class=\"data row1 col11\" >1</td>\n",
       "      <td id=\"T_f7a5d_row1_col12\" class=\"data row1 col12\" >HundredGigE0/0/0/16</td>\n",
       "    </tr>\n",
       "    <tr>\n",
       "      <td id=\"T_f7a5d_row2_col0\" class=\"data row2 col0\" >router-net1-p1</td>\n",
       "      <td id=\"T_f7a5d_row2_col1\" class=\"data row2 col1\" >p1</td>\n",
       "      <td id=\"T_f7a5d_row2_col2\" class=\"data row2 col2\" >router</td>\n",
       "      <td id=\"T_f7a5d_row2_col3\" class=\"data row2 col3\" >net1</td>\n",
       "      <td id=\"T_f7a5d_row2_col4\" class=\"data row2 col4\" >100</td>\n",
       "      <td id=\"T_f7a5d_row2_col5\" class=\"data row2 col5\" >config</td>\n",
       "      <td id=\"T_f7a5d_row2_col6\" class=\"data row2 col6\" ></td>\n",
       "      <td id=\"T_f7a5d_row2_col7\" class=\"data row2 col7\" >02:5A:9F:4B:87:1F</td>\n",
       "      <td id=\"T_f7a5d_row2_col8\" class=\"data row2 col8\" >enp7s0</td>\n",
       "      <td id=\"T_f7a5d_row2_col9\" class=\"data row2 col9\" >enp7s0</td>\n",
       "      <td id=\"T_f7a5d_row2_col10\" class=\"data row2 col10\" >fe80::5a:9fff:fe4b:871f</td>\n",
       "      <td id=\"T_f7a5d_row2_col11\" class=\"data row2 col11\" >1</td>\n",
       "      <td id=\"T_f7a5d_row2_col12\" class=\"data row2 col12\" >HundredGigE0/0/0/24</td>\n",
       "    </tr>\n",
       "    <tr>\n",
       "      <td id=\"T_f7a5d_row3_col0\" class=\"data row3 col0\" >router-net0-p1</td>\n",
       "      <td id=\"T_f7a5d_row3_col1\" class=\"data row3 col1\" >p1</td>\n",
       "      <td id=\"T_f7a5d_row3_col2\" class=\"data row3 col2\" >router</td>\n",
       "      <td id=\"T_f7a5d_row3_col3\" class=\"data row3 col3\" >net0</td>\n",
       "      <td id=\"T_f7a5d_row3_col4\" class=\"data row3 col4\" >100</td>\n",
       "      <td id=\"T_f7a5d_row3_col5\" class=\"data row3 col5\" >config</td>\n",
       "      <td id=\"T_f7a5d_row3_col6\" class=\"data row3 col6\" ></td>\n",
       "      <td id=\"T_f7a5d_row3_col7\" class=\"data row3 col7\" >06:54:D2:B8:FE:41</td>\n",
       "      <td id=\"T_f7a5d_row3_col8\" class=\"data row3 col8\" >enp8s0</td>\n",
       "      <td id=\"T_f7a5d_row3_col9\" class=\"data row3 col9\" >enp8s0</td>\n",
       "      <td id=\"T_f7a5d_row3_col10\" class=\"data row3 col10\" >fe80::454:d2ff:feb8:fe41</td>\n",
       "      <td id=\"T_f7a5d_row3_col11\" class=\"data row3 col11\" >1</td>\n",
       "      <td id=\"T_f7a5d_row3_col12\" class=\"data row3 col12\" >HundredGigE0/0/0/24</td>\n",
       "    </tr>\n",
       "  </tbody>\n",
       "</table>\n"
      ],
      "text/plain": [
       "<pandas.io.formats.style.Styler at 0x7bd08833f5d0>"
      ]
     },
     "metadata": {},
     "output_type": "display_data"
    },
    {
     "name": "stdout",
     "output_type": "stream",
     "text": [
      "\n",
      "Time to print interfaces 241 seconds\n"
     ]
    },
    {
     "data": {
      "text/plain": [
       "'ca9b224e-f300-448b-bf65-47067046646d'"
      ]
     },
     "execution_count": 13,
     "metadata": {},
     "output_type": "execute_result"
    }
   ],
   "source": [
    "slice.submit()"
   ]
  },
  {
   "cell_type": "code",
   "execution_count": 14,
   "metadata": {},
   "outputs": [
    {
     "name": "stdout",
     "output_type": "stream",
     "text": [
      "Waiting for slice . Slice state: StableOK\n",
      "Waiting for ssh in slice . ssh successful\n"
     ]
    },
    {
     "data": {
      "text/plain": [
       "True"
      ]
     },
     "execution_count": 14,
     "metadata": {},
     "output_type": "execute_result"
    }
   ],
   "source": [
    "slice.get_state()\n",
    "slice.wait_ssh(progress=True)"
   ]
  },
  {
   "cell_type": "markdown",
   "metadata": {},
   "source": [
    "### Configure resources\n",
    "\n",
    "Next, we will configure the resources so they are ready to use."
   ]
  },
  {
   "cell_type": "code",
   "execution_count": 15,
   "metadata": {},
   "outputs": [],
   "source": [
    "slice = fablib.get_slice(name=slice_name)"
   ]
  },
  {
   "cell_type": "code",
   "execution_count": 16,
   "metadata": {},
   "outputs": [],
   "source": [
    "# install packages\n",
    "# this will take a while and will run in background while you do other steps\n",
    "for n in node_conf:\n",
    "    if len(n['packages']):\n",
    "        node = slice.get_node(n['name'])\n",
    "        pkg = \" \".join(n['packages'])\n",
    "        node.execute_thread(\"sudo apt update; sudo DEBIAN_FRONTEND=noninteractive apt -y install %s\" % pkg)"
   ]
  },
  {
   "cell_type": "code",
   "execution_count": 17,
   "metadata": {},
   "outputs": [],
   "source": [
    "# bring interfaces up and either assign an address (if there is one) or flush address\n",
    "from ipaddress import ip_address, IPv4Address, IPv4Network\n",
    "\n",
    "for net in net_conf:\n",
    "    for n in net['nodes']:\n",
    "        if_name = n['name'] + '-' + net['name'] + '-p1'\n",
    "        iface = slice.get_interface(if_name)\n",
    "        iface.ip_link_up()\n",
    "        if n['addr']:\n",
    "            iface.ip_addr_add(addr=n['addr'], subnet=IPv4Network(net['subnet']))\n",
    "        else:\n",
    "            iface.get_node().execute(\"sudo ip addr flush dev %s\"  % iface.get_device_name())"
   ]
  },
  {
   "cell_type": "code",
   "execution_count": 18,
   "metadata": {},
   "outputs": [],
   "source": [
    "# make sure all interfaces are brought up\n",
    "for iface in slice.get_interfaces():\n",
    "    iface.ip_link_up()"
   ]
  },
  {
   "cell_type": "code",
   "execution_count": 19,
   "metadata": {},
   "outputs": [
    {
     "name": "stdout",
     "output_type": "stream",
     "text": [
      "10.0.0.2 romeo\n",
      "10.0.0.1 router\n",
      "10.0.1.2 juliet\n",
      "10.0.1.1 router\n",
      "10.0.0.2 romeo\n",
      "10.0.0.1 router\n",
      "10.0.1.2 juliet\n",
      "10.0.1.1 router\n",
      "10.0.0.2 romeo\n",
      "10.0.0.1 router\n",
      "10.0.1.2 juliet\n",
      "10.0.1.1 router\n"
     ]
    }
   ],
   "source": [
    "# prepare a \"hosts\" file that has names and addresses of every node\n",
    "hosts_txt = [ \"%s\\t%s\" % ( n['addr'], n['name'] ) for net in net_conf  for n in net['nodes'] if type(n) is dict and n['addr']]\n",
    "for n in slice.get_nodes():\n",
    "    for h in hosts_txt:\n",
    "        n.execute(\"echo %s | sudo tee -a /etc/hosts\" % h)"
   ]
  },
  {
   "cell_type": "code",
   "execution_count": 20,
   "metadata": {},
   "outputs": [
    {
     "name": "stdout",
     "output_type": "stream",
     "text": [
      "net.ipv4.ip_forward = 1\n",
      "net.ipv4.ip_forward = 1\n",
      "net.ipv4.ip_forward = 1\n"
     ]
    }
   ],
   "source": [
    "# enable IPv4 forwarding on all nodes\n",
    "for n in slice.get_nodes():\n",
    "    n.execute(\"sudo sysctl -w net.ipv4.ip_forward=1\")"
   ]
  },
  {
   "cell_type": "code",
   "execution_count": 21,
   "metadata": {},
   "outputs": [],
   "source": [
    "# set up static routes\n",
    "for rt in route_conf:\n",
    "    for n in rt['nodes']:\n",
    "        slice.get_node(name=n).ip_route_add(subnet=IPv4Network(rt['addr']), gateway=rt['gw'])"
   ]
  },
  {
   "cell_type": "markdown",
   "metadata": {},
   "source": [
    "### Draw the network topology"
   ]
  },
  {
   "cell_type": "markdown",
   "metadata": {},
   "source": [
    "The following cell will draw the network topology, for your reference. The interface name and addresses of each experiment interface will be shown on the drawing."
   ]
  },
  {
   "cell_type": "code",
   "execution_count": 22,
   "metadata": {},
   "outputs": [],
   "source": [
    "l2_nets = [(n.get_name(), {'color': 'lavender'}) for n in slice.get_l2networks() ]\n",
    "l3_nets = [(n.get_name(), {'color': 'pink'}) for n in slice.get_l3networks() ]\n",
    "hosts   =   [(n.get_name(), {'color': 'lightblue'}) for n in slice.get_nodes()]\n",
    "nodes = l2_nets + l3_nets + hosts\n",
    "ifaces = [iface.toDict() for iface in slice.get_interfaces()]\n",
    "edges = [(iface['network'], iface['node'], \n",
    "          {'label': iface['physical_dev'] + '\\n' + iface['ip_addr'] + '\\n' + iface['mac']}) for iface in ifaces]"
   ]
  },
  {
   "cell_type": "code",
   "execution_count": 23,
   "metadata": {},
   "outputs": [
    {
     "data": {
      "image/png": "[encoded data removed]",
      "text/plain": [
       "<Figure size 500x500 with 1 Axes>"
      ]
     },
     "metadata": {},
     "output_type": "display_data"
    }
   ],
   "source": [
    "import networkx as nx\n",
    "import matplotlib.pyplot as plt\n",
    "plt.figure(figsize=(len(nodes),len(nodes)))\n",
    "G = nx.Graph()\n",
    "G.add_nodes_from(nodes)\n",
    "G.add_edges_from(edges)\n",
    "pos = nx.spring_layout(G)\n",
    "nx.draw(G, pos, node_shape='s',  \n",
    "        node_color=[n[1]['color'] for n in nodes], \n",
    "        node_size=[len(n[0])*400 for n in nodes],  \n",
    "        with_labels=True);\n",
    "nx.draw_networkx_edge_labels(G,pos,\n",
    "                             edge_labels=nx.get_edge_attributes(G,'label'),\n",
    "                             font_color='gray',  font_size=8, rotate=False);"
   ]
  },
  {
   "cell_type": "markdown",
   "metadata": {},
   "source": [
    "### Log into resources"
   ]
  },
  {
   "cell_type": "markdown",
   "metadata": {},
   "source": [
    "Now, we are finally ready to log in to our resources over SSH! Run the following cells, and observe the table output - you will see an SSH command for each of the resources in your topology."
   ]
  },
  {
   "cell_type": "code",
   "execution_count": 24,
   "metadata": {},
   "outputs": [
    {
     "data": {
      "text/html": [
       "<div>\n",
       "<style scoped>\n",
       "    .dataframe tbody tr th:only-of-type {\n",
       "        vertical-align: middle;\n",
       "    }\n",
       "\n",
       "    .dataframe tbody tr th {\n",
       "        vertical-align: top;\n",
       "    }\n",
       "\n",
       "    .dataframe thead th {\n",
       "        text-align: right;\n",
       "    }\n",
       "</style>\n",
       "<table border=\"1\" class=\"dataframe\">\n",
       "  <thead>\n",
       "    <tr style=\"text-align: right;\">\n",
       "      <th></th>\n",
       "      <th>SSH command</th>\n",
       "    </tr>\n",
       "    <tr>\n",
       "      <th>Name</th>\n",
       "      <th></th>\n",
       "    </tr>\n",
       "  </thead>\n",
       "  <tbody>\n",
       "    <tr>\n",
       "      <th>romeo</th>\n",
       "      <td>ssh -i /home/fabric/work/fabric_config/slice_key -F /home/fabric/work/fabric_config/ssh_config ubuntu@2610:1e0:1700:206:f816:3eff:fe59:556c</td>\n",
       "    </tr>\n",
       "    <tr>\n",
       "      <th>juliet</th>\n",
       "      <td>ssh -i /home/fabric/work/fabric_config/slice_key -F /home/fabric/work/fabric_config/ssh_config ubuntu@2610:1e0:1700:206:f816:3eff:febe:c17c</td>\n",
       "    </tr>\n",
       "    <tr>\n",
       "      <th>router</th>\n",
       "      <td>ssh -i /home/fabric/work/fabric_config/slice_key -F /home/fabric/work/fabric_config/ssh_config ubuntu@2610:1e0:1700:206:f816:3eff:fe64:aed9</td>\n",
       "    </tr>\n",
       "  </tbody>\n",
       "</table>\n",
       "</div>"
      ],
      "text/plain": [
       "                                                                                                                                        SSH command\n",
       "Name                                                                                                                                               \n",
       "romeo   ssh -i /home/fabric/work/fabric_config/slice_key -F /home/fabric/work/fabric_config/ssh_config ubuntu@2610:1e0:1700:206:f816:3eff:fe59:556c\n",
       "juliet  ssh -i /home/fabric/work/fabric_config/slice_key -F /home/fabric/work/fabric_config/ssh_config ubuntu@2610:1e0:1700:206:f816:3eff:febe:c17c\n",
       "router  ssh -i /home/fabric/work/fabric_config/slice_key -F /home/fabric/work/fabric_config/ssh_config ubuntu@2610:1e0:1700:206:f816:3eff:fe64:aed9"
      ]
     },
     "execution_count": 24,
     "metadata": {},
     "output_type": "execute_result"
    }
   ],
   "source": [
    "import pandas as pd\n",
    "pd.set_option('display.max_colwidth', None)\n",
    "slice_info = [{'Name': n.get_name(), 'SSH command': n.get_ssh_command()} for n in slice.get_nodes()]\n",
    "pd.DataFrame(slice_info).set_index('Name')"
   ]
  },
  {
   "cell_type": "markdown",
   "metadata": {},
   "source": [
    "Now, you can open an SSH session on any of the resources as follows:\n",
    "\n",
    "-   in Jupyter, from the menu bar, use File \\> New \\> Terminal to open a new terminal.\n",
    "-   copy an SSH command from the table, and paste it into the terminal. (Note that each SSH command is a single line, even if the display wraps the text to a second line! When you copy and paste it, paste it all together.)\n",
    "\n",
    "You can repeat this process (open several terminals) to start a session on each resource. Each terminal session will have a tab in the Jupyter environment, so that you can easily switch between them."
   ]
  },
  {
   "cell_type": "markdown",
   "metadata": {},
   "source": [
    "## Transfer files from a FABRIC host\n",
    "\n",
    "In future experiments, we’ll often want to save the results of an experiment to a file on a FABRIC host, then transfer it to our own laptop for further inspection and analysis. In this exercise, we will learn how to do that!"
   ]
  },
  {
   "cell_type": "markdown",
   "metadata": {},
   "source": [
    "As described above, open an SSH session to the “romeo” host in your topology. On this host, run the following command:\n",
    "\n",
    "    ping -c 10 10.0.1.2 | tee ping.txt\n",
    "\n",
    "This will:\n",
    "\n",
    "-   send a sequence of “ICMP echo” messages to the “juliet” host, which will trigger a response from “juliet”\n",
    "-   save the results - which includes the round trip delay from the time when the request is sent from “romeo”, to the time that the response from “juliet” is received - to a file `ping.txt`. (The results will also be displayed in the terminal output.)"
   ]
  },
  {
   "cell_type": "markdown",
   "metadata": {},
   "source": [
    "Now, in this notebook, run"
   ]
  },
  {
   "cell_type": "code",
   "execution_count": 25,
   "metadata": {},
   "outputs": [],
   "source": [
    "slice.get_node(\"romeo\").download_file(\"/home/fabric/work/ping.txt\", \"/home/ubuntu/ping.txt\")"
   ]
  },
  {
   "cell_type": "markdown",
   "metadata": {},
   "source": [
    "In the Jupyter environment, click on the folder icon in the file browser on the left to make sure that you are located in your “Jupyter home” directory.\n",
    "\n",
    "![](images/jup-fab-home-dir.png)\n",
    "\n",
    "Then, you should see the `ping.txt` file appear in the Jupyter file browser on the left. You can now download this file from the Jupyter environment to your own laptop."
   ]
  },
  {
   "cell_type": "markdown",
   "metadata": {},
   "source": [
    "## Modify your slice lifetime\n",
    "\n",
    "By default, your resources will be reserved for you for one day - then, they will be deleted automatically to free them for other users."
   ]
  },
  {
   "cell_type": "markdown",
   "metadata": {},
   "source": [
    "### Extend your slice\n",
    "\n",
    "If you don’t plan to finish an experiment in one day, you can extend your slice. The following cell extends your reservation for 3 days."
   ]
  },
  {
   "cell_type": "code",
   "execution_count": 26,
   "metadata": {},
   "outputs": [
    {
     "name": "stdout",
     "output_type": "stream",
     "text": [
      "\n",
      "Retry: 1, Time: 48 sec\n"
     ]
    },
    {
     "data": {
      "text/html": [
       "<style type=\"text/css\">\n",
       "#T_94a33 tr:nth-child(even) {\n",
       "  background: #dbf3ff;\n",
       "  color: #231f20;\n",
       "}\n",
       "#T_94a33 tr:nth-child(odd) {\n",
       "  background: #ffffff;\n",
       "  color: #231f20;\n",
       "}\n",
       "#T_94a33 caption {\n",
       "  text-align: center;\n",
       "  font-size: 150%;\n",
       "}\n",
       "#T_94a33_row0_col0, #T_94a33_row0_col1, #T_94a33_row1_col0, #T_94a33_row1_col1, #T_94a33_row2_col0, #T_94a33_row2_col1, #T_94a33_row3_col0, #T_94a33_row3_col1, #T_94a33_row4_col0, #T_94a33_row4_col1, #T_94a33_row5_col0, #T_94a33_row6_col0, #T_94a33_row6_col1, #T_94a33_row7_col0, #T_94a33_row7_col1 {\n",
       "  text-align: left;\n",
       "  border: 1px #231f20 solid !important;\n",
       "  overwrite: False;\n",
       "  background-color: ;\n",
       "}\n",
       "#T_94a33_row5_col1 {\n",
       "  text-align: left;\n",
       "  border: 1px #231f20 solid !important;\n",
       "  overwrite: False;\n",
       "  background-color: #c3ffc4;\n",
       "}\n",
       "</style>\n",
       "<table id=\"T_94a33\">\n",
       "  <caption>Slice</caption>\n",
       "  <thead>\n",
       "  </thead>\n",
       "  <tbody>\n",
       "    <tr>\n",
       "      <td id=\"T_94a33_row0_col0\" class=\"data row0 col0\" >ID</td>\n",
       "      <td id=\"T_94a33_row0_col1\" class=\"data row0 col1\" >ca9b224e-f300-448b-bf65-47067046646d</td>\n",
       "    </tr>\n",
       "    <tr>\n",
       "      <td id=\"T_94a33_row1_col0\" class=\"data row1 col0\" >Name</td>\n",
       "      <td id=\"T_94a33_row1_col1\" class=\"data row1 col1\" >hello-fabric_hun13_0000132578</td>\n",
       "    </tr>\n",
       "    <tr>\n",
       "      <td id=\"T_94a33_row2_col0\" class=\"data row2 col0\" >Lease Expiration (UTC)</td>\n",
       "      <td id=\"T_94a33_row2_col1\" class=\"data row2 col1\" >2025-08-22 19:20:12 +0000</td>\n",
       "    </tr>\n",
       "    <tr>\n",
       "      <td id=\"T_94a33_row3_col0\" class=\"data row3 col0\" >Lease Start (UTC)</td>\n",
       "      <td id=\"T_94a33_row3_col1\" class=\"data row3 col1\" >2025-08-20 19:05:33 +0000</td>\n",
       "    </tr>\n",
       "    <tr>\n",
       "      <td id=\"T_94a33_row4_col0\" class=\"data row4 col0\" >Project ID</td>\n",
       "      <td id=\"T_94a33_row4_col1\" class=\"data row4 col1\" >a045503e-d19d-434e-93b1-08b8aad3d5d1</td>\n",
       "    </tr>\n",
       "    <tr>\n",
       "      <td id=\"T_94a33_row5_col0\" class=\"data row5 col0\" >State</td>\n",
       "      <td id=\"T_94a33_row5_col1\" class=\"data row5 col1\" >StableOK</td>\n",
       "    </tr>\n",
       "    <tr>\n",
       "      <td id=\"T_94a33_row6_col0\" class=\"data row6 col0\" >Email</td>\n",
       "      <td id=\"T_94a33_row6_col1\" class=\"data row6 col1\" >HUN13@pitt.edu</td>\n",
       "    </tr>\n",
       "    <tr>\n",
       "      <td id=\"T_94a33_row7_col0\" class=\"data row7 col0\" >UserId</td>\n",
       "      <td id=\"T_94a33_row7_col1\" class=\"data row7 col1\" >0d94c21b-92a3-4e56-84de-be18169665eb</td>\n",
       "    </tr>\n",
       "  </tbody>\n",
       "</table>\n"
      ],
      "text/plain": [
       "<pandas.io.formats.style.Styler at 0x7bd0706da090>"
      ]
     },
     "metadata": {},
     "output_type": "display_data"
    },
    {
     "data": {
      "text/html": [
       "<style type=\"text/css\">\n",
       "#T_9f806 caption {\n",
       "  text-align: center;\n",
       "  font-size: 150%;\n",
       "  caption-side: top;\n",
       "}\n",
       "#T_9f806 th {\n",
       "  text-align: left;\n",
       "}\n",
       "#T_9f806 tr:nth-child(even) {\n",
       "  background: #ffffff;\n",
       "  color: #231f20;\n",
       "}\n",
       "#T_9f806 tr:nth-child(odd) {\n",
       "  background: #dbf3ff;\n",
       "  color: #231f20;\n",
       "}\n",
       "#T_9f806 .level0 {\n",
       "  border: 1px black solid !important;\n",
       "  background: #ffffff;\n",
       "  color: #231f20;\n",
       "}\n",
       "#T_9f806_row0_col0, #T_9f806_row0_col1, #T_9f806_row0_col2, #T_9f806_row0_col3, #T_9f806_row0_col4, #T_9f806_row0_col5, #T_9f806_row0_col6, #T_9f806_row0_col7, #T_9f806_row0_col8, #T_9f806_row0_col9, #T_9f806_row0_col10, #T_9f806_row0_col13, #T_9f806_row0_col14, #T_9f806_row0_col15, #T_9f806_row1_col0, #T_9f806_row1_col1, #T_9f806_row1_col2, #T_9f806_row1_col3, #T_9f806_row1_col4, #T_9f806_row1_col5, #T_9f806_row1_col6, #T_9f806_row1_col7, #T_9f806_row1_col8, #T_9f806_row1_col9, #T_9f806_row1_col10, #T_9f806_row1_col13, #T_9f806_row1_col14, #T_9f806_row1_col15, #T_9f806_row2_col0, #T_9f806_row2_col1, #T_9f806_row2_col2, #T_9f806_row2_col3, #T_9f806_row2_col4, #T_9f806_row2_col5, #T_9f806_row2_col6, #T_9f806_row2_col7, #T_9f806_row2_col8, #T_9f806_row2_col9, #T_9f806_row2_col10, #T_9f806_row2_col13, #T_9f806_row2_col14, #T_9f806_row2_col15 {\n",
       "  text-align: left;\n",
       "  border: 1px #231f20 solid !important;\n",
       "  overwrite: False;\n",
       "}\n",
       "#T_9f806_row0_col11, #T_9f806_row1_col11, #T_9f806_row2_col11 {\n",
       "  text-align: left;\n",
       "  border: 1px #231f20 solid !important;\n",
       "  overwrite: False;\n",
       "  background-color: #c3ffc4;\n",
       "}\n",
       "#T_9f806_row0_col12, #T_9f806_row1_col12, #T_9f806_row2_col12 {\n",
       "  text-align: left;\n",
       "  border: 1px #231f20 solid !important;\n",
       "  overwrite: False;\n",
       "  background-color: ;\n",
       "}\n",
       "</style>\n",
       "<table id=\"T_9f806\">\n",
       "  <caption>Nodes</caption>\n",
       "  <thead>\n",
       "    <tr>\n",
       "      <th id=\"T_9f806_level0_col0\" class=\"col_heading level0 col0\" >ID</th>\n",
       "      <th id=\"T_9f806_level0_col1\" class=\"col_heading level0 col1\" >Name</th>\n",
       "      <th id=\"T_9f806_level0_col2\" class=\"col_heading level0 col2\" >Cores</th>\n",
       "      <th id=\"T_9f806_level0_col3\" class=\"col_heading level0 col3\" >RAM</th>\n",
       "      <th id=\"T_9f806_level0_col4\" class=\"col_heading level0 col4\" >Disk</th>\n",
       "      <th id=\"T_9f806_level0_col5\" class=\"col_heading level0 col5\" >Image</th>\n",
       "      <th id=\"T_9f806_level0_col6\" class=\"col_heading level0 col6\" >Image Type</th>\n",
       "      <th id=\"T_9f806_level0_col7\" class=\"col_heading level0 col7\" >Host</th>\n",
       "      <th id=\"T_9f806_level0_col8\" class=\"col_heading level0 col8\" >Site</th>\n",
       "      <th id=\"T_9f806_level0_col9\" class=\"col_heading level0 col9\" >Username</th>\n",
       "      <th id=\"T_9f806_level0_col10\" class=\"col_heading level0 col10\" >Management IP</th>\n",
       "      <th id=\"T_9f806_level0_col11\" class=\"col_heading level0 col11\" >State</th>\n",
       "      <th id=\"T_9f806_level0_col12\" class=\"col_heading level0 col12\" >Error</th>\n",
       "      <th id=\"T_9f806_level0_col13\" class=\"col_heading level0 col13\" >SSH Command</th>\n",
       "      <th id=\"T_9f806_level0_col14\" class=\"col_heading level0 col14\" >Public SSH Key File</th>\n",
       "      <th id=\"T_9f806_level0_col15\" class=\"col_heading level0 col15\" >Private SSH Key File</th>\n",
       "    </tr>\n",
       "  </thead>\n",
       "  <tbody>\n",
       "    <tr>\n",
       "      <td id=\"T_9f806_row0_col0\" class=\"data row0 col0\" >beddcfc3-1b2d-4486-9aa8-1266107e7ced</td>\n",
       "      <td id=\"T_9f806_row0_col1\" class=\"data row0 col1\" >juliet</td>\n",
       "      <td id=\"T_9f806_row0_col2\" class=\"data row0 col2\" >2</td>\n",
       "      <td id=\"T_9f806_row0_col3\" class=\"data row0 col3\" >4</td>\n",
       "      <td id=\"T_9f806_row0_col4\" class=\"data row0 col4\" >10</td>\n",
       "      <td id=\"T_9f806_row0_col5\" class=\"data row0 col5\" >default_ubuntu_22</td>\n",
       "      <td id=\"T_9f806_row0_col6\" class=\"data row0 col6\" >qcow2</td>\n",
       "      <td id=\"T_9f806_row0_col7\" class=\"data row0 col7\" >eduky-w16.fabric-testbed.net</td>\n",
       "      <td id=\"T_9f806_row0_col8\" class=\"data row0 col8\" >EDUKY</td>\n",
       "      <td id=\"T_9f806_row0_col9\" class=\"data row0 col9\" >ubuntu</td>\n",
       "      <td id=\"T_9f806_row0_col10\" class=\"data row0 col10\" >2610:1e0:1700:206:f816:3eff:febe:c17c</td>\n",
       "      <td id=\"T_9f806_row0_col11\" class=\"data row0 col11\" >Active</td>\n",
       "      <td id=\"T_9f806_row0_col12\" class=\"data row0 col12\" ></td>\n",
       "      <td id=\"T_9f806_row0_col13\" class=\"data row0 col13\" >ssh -i /home/fabric/work/fabric_config/slice_key -F /home/fabric/work/fabric_config/ssh_config ubuntu@2610:1e0:1700:206:f816:3eff:febe:c17c</td>\n",
       "      <td id=\"T_9f806_row0_col14\" class=\"data row0 col14\" >/home/fabric/work/fabric_config/slice_key.pub</td>\n",
       "      <td id=\"T_9f806_row0_col15\" class=\"data row0 col15\" >/home/fabric/work/fabric_config/slice_key</td>\n",
       "    </tr>\n",
       "    <tr>\n",
       "      <td id=\"T_9f806_row1_col0\" class=\"data row1 col0\" >fe622b3b-017c-400f-8966-47a21da7f450</td>\n",
       "      <td id=\"T_9f806_row1_col1\" class=\"data row1 col1\" >romeo</td>\n",
       "      <td id=\"T_9f806_row1_col2\" class=\"data row1 col2\" >2</td>\n",
       "      <td id=\"T_9f806_row1_col3\" class=\"data row1 col3\" >4</td>\n",
       "      <td id=\"T_9f806_row1_col4\" class=\"data row1 col4\" >10</td>\n",
       "      <td id=\"T_9f806_row1_col5\" class=\"data row1 col5\" >default_ubuntu_22</td>\n",
       "      <td id=\"T_9f806_row1_col6\" class=\"data row1 col6\" >qcow2</td>\n",
       "      <td id=\"T_9f806_row1_col7\" class=\"data row1 col7\" >eduky-w4.fabric-testbed.net</td>\n",
       "      <td id=\"T_9f806_row1_col8\" class=\"data row1 col8\" >EDUKY</td>\n",
       "      <td id=\"T_9f806_row1_col9\" class=\"data row1 col9\" >ubuntu</td>\n",
       "      <td id=\"T_9f806_row1_col10\" class=\"data row1 col10\" >2610:1e0:1700:206:f816:3eff:fe59:556c</td>\n",
       "      <td id=\"T_9f806_row1_col11\" class=\"data row1 col11\" >Active</td>\n",
       "      <td id=\"T_9f806_row1_col12\" class=\"data row1 col12\" ></td>\n",
       "      <td id=\"T_9f806_row1_col13\" class=\"data row1 col13\" >ssh -i /home/fabric/work/fabric_config/slice_key -F /home/fabric/work/fabric_config/ssh_config ubuntu@2610:1e0:1700:206:f816:3eff:fe59:556c</td>\n",
       "      <td id=\"T_9f806_row1_col14\" class=\"data row1 col14\" >/home/fabric/work/fabric_config/slice_key.pub</td>\n",
       "      <td id=\"T_9f806_row1_col15\" class=\"data row1 col15\" >/home/fabric/work/fabric_config/slice_key</td>\n",
       "    </tr>\n",
       "    <tr>\n",
       "      <td id=\"T_9f806_row2_col0\" class=\"data row2 col0\" >cff3ced8-f8fc-4fec-8bcd-678c374140b2</td>\n",
       "      <td id=\"T_9f806_row2_col1\" class=\"data row2 col1\" >router</td>\n",
       "      <td id=\"T_9f806_row2_col2\" class=\"data row2 col2\" >2</td>\n",
       "      <td id=\"T_9f806_row2_col3\" class=\"data row2 col3\" >4</td>\n",
       "      <td id=\"T_9f806_row2_col4\" class=\"data row2 col4\" >10</td>\n",
       "      <td id=\"T_9f806_row2_col5\" class=\"data row2 col5\" >default_ubuntu_22</td>\n",
       "      <td id=\"T_9f806_row2_col6\" class=\"data row2 col6\" >qcow2</td>\n",
       "      <td id=\"T_9f806_row2_col7\" class=\"data row2 col7\" >eduky-w6.fabric-testbed.net</td>\n",
       "      <td id=\"T_9f806_row2_col8\" class=\"data row2 col8\" >EDUKY</td>\n",
       "      <td id=\"T_9f806_row2_col9\" class=\"data row2 col9\" >ubuntu</td>\n",
       "      <td id=\"T_9f806_row2_col10\" class=\"data row2 col10\" >2610:1e0:1700:206:f816:3eff:fe64:aed9</td>\n",
       "      <td id=\"T_9f806_row2_col11\" class=\"data row2 col11\" >Active</td>\n",
       "      <td id=\"T_9f806_row2_col12\" class=\"data row2 col12\" ></td>\n",
       "      <td id=\"T_9f806_row2_col13\" class=\"data row2 col13\" >ssh -i /home/fabric/work/fabric_config/slice_key -F /home/fabric/work/fabric_config/ssh_config ubuntu@2610:1e0:1700:206:f816:3eff:fe64:aed9</td>\n",
       "      <td id=\"T_9f806_row2_col14\" class=\"data row2 col14\" >/home/fabric/work/fabric_config/slice_key.pub</td>\n",
       "      <td id=\"T_9f806_row2_col15\" class=\"data row2 col15\" >/home/fabric/work/fabric_config/slice_key</td>\n",
       "    </tr>\n",
       "  </tbody>\n",
       "</table>\n"
      ],
      "text/plain": [
       "<pandas.io.formats.style.Styler at 0x7bd070307ed0>"
      ]
     },
     "metadata": {},
     "output_type": "display_data"
    },
    {
     "data": {
      "text/html": [
       "<style type=\"text/css\">\n",
       "#T_b94cc caption {\n",
       "  text-align: center;\n",
       "  font-size: 150%;\n",
       "  caption-side: top;\n",
       "}\n",
       "#T_b94cc th {\n",
       "  text-align: left;\n",
       "}\n",
       "#T_b94cc tr:nth-child(even) {\n",
       "  background: #ffffff;\n",
       "  color: #231f20;\n",
       "}\n",
       "#T_b94cc tr:nth-child(odd) {\n",
       "  background: #dbf3ff;\n",
       "  color: #231f20;\n",
       "}\n",
       "#T_b94cc .level0 {\n",
       "  border: 1px black solid !important;\n",
       "  background: #ffffff;\n",
       "  color: #231f20;\n",
       "}\n",
       "#T_b94cc_row0_col0, #T_b94cc_row0_col1, #T_b94cc_row0_col2, #T_b94cc_row0_col3, #T_b94cc_row0_col4, #T_b94cc_row0_col5, #T_b94cc_row0_col6, #T_b94cc_row1_col0, #T_b94cc_row1_col1, #T_b94cc_row1_col2, #T_b94cc_row1_col3, #T_b94cc_row1_col4, #T_b94cc_row1_col5, #T_b94cc_row1_col6 {\n",
       "  text-align: left;\n",
       "  border: 1px #231f20 solid !important;\n",
       "  overwrite: False;\n",
       "}\n",
       "#T_b94cc_row0_col7, #T_b94cc_row1_col7 {\n",
       "  text-align: left;\n",
       "  border: 1px #231f20 solid !important;\n",
       "  overwrite: False;\n",
       "  background-color: #c3ffc4;\n",
       "}\n",
       "#T_b94cc_row0_col8, #T_b94cc_row1_col8 {\n",
       "  text-align: left;\n",
       "  border: 1px #231f20 solid !important;\n",
       "  overwrite: False;\n",
       "  background-color: ;\n",
       "}\n",
       "</style>\n",
       "<table id=\"T_b94cc\">\n",
       "  <caption>Networks</caption>\n",
       "  <thead>\n",
       "    <tr>\n",
       "      <th id=\"T_b94cc_level0_col0\" class=\"col_heading level0 col0\" >ID</th>\n",
       "      <th id=\"T_b94cc_level0_col1\" class=\"col_heading level0 col1\" >Name</th>\n",
       "      <th id=\"T_b94cc_level0_col2\" class=\"col_heading level0 col2\" >Layer</th>\n",
       "      <th id=\"T_b94cc_level0_col3\" class=\"col_heading level0 col3\" >Type</th>\n",
       "      <th id=\"T_b94cc_level0_col4\" class=\"col_heading level0 col4\" >Site</th>\n",
       "      <th id=\"T_b94cc_level0_col5\" class=\"col_heading level0 col5\" >Subnet</th>\n",
       "      <th id=\"T_b94cc_level0_col6\" class=\"col_heading level0 col6\" >Gateway</th>\n",
       "      <th id=\"T_b94cc_level0_col7\" class=\"col_heading level0 col7\" >State</th>\n",
       "      <th id=\"T_b94cc_level0_col8\" class=\"col_heading level0 col8\" >Error</th>\n",
       "    </tr>\n",
       "  </thead>\n",
       "  <tbody>\n",
       "    <tr>\n",
       "      <td id=\"T_b94cc_row0_col0\" class=\"data row0 col0\" >100dd985-4b17-4b2d-b992-a441cb06be11</td>\n",
       "      <td id=\"T_b94cc_row0_col1\" class=\"data row0 col1\" >net0</td>\n",
       "      <td id=\"T_b94cc_row0_col2\" class=\"data row0 col2\" >L2</td>\n",
       "      <td id=\"T_b94cc_row0_col3\" class=\"data row0 col3\" >L2Bridge</td>\n",
       "      <td id=\"T_b94cc_row0_col4\" class=\"data row0 col4\" >EDUKY</td>\n",
       "      <td id=\"T_b94cc_row0_col5\" class=\"data row0 col5\" >None</td>\n",
       "      <td id=\"T_b94cc_row0_col6\" class=\"data row0 col6\" >None</td>\n",
       "      <td id=\"T_b94cc_row0_col7\" class=\"data row0 col7\" >Active</td>\n",
       "      <td id=\"T_b94cc_row0_col8\" class=\"data row0 col8\" ></td>\n",
       "    </tr>\n",
       "    <tr>\n",
       "      <td id=\"T_b94cc_row1_col0\" class=\"data row1 col0\" >9cfd5cca-57f1-4b4a-a7c9-62bdc0dd5739</td>\n",
       "      <td id=\"T_b94cc_row1_col1\" class=\"data row1 col1\" >net1</td>\n",
       "      <td id=\"T_b94cc_row1_col2\" class=\"data row1 col2\" >L2</td>\n",
       "      <td id=\"T_b94cc_row1_col3\" class=\"data row1 col3\" >L2Bridge</td>\n",
       "      <td id=\"T_b94cc_row1_col4\" class=\"data row1 col4\" >EDUKY</td>\n",
       "      <td id=\"T_b94cc_row1_col5\" class=\"data row1 col5\" >None</td>\n",
       "      <td id=\"T_b94cc_row1_col6\" class=\"data row1 col6\" >None</td>\n",
       "      <td id=\"T_b94cc_row1_col7\" class=\"data row1 col7\" >Active</td>\n",
       "      <td id=\"T_b94cc_row1_col8\" class=\"data row1 col8\" ></td>\n",
       "    </tr>\n",
       "  </tbody>\n",
       "</table>\n"
      ],
      "text/plain": [
       "<pandas.io.formats.style.Styler at 0x7bd08828b590>"
      ]
     },
     "metadata": {},
     "output_type": "display_data"
    },
    {
     "data": {
      "text/html": [
       "<style type=\"text/css\">\n",
       "#T_fb2e5 caption {\n",
       "  text-align: center;\n",
       "  font-size: 150%;\n",
       "  caption-side: top;\n",
       "}\n",
       "#T_fb2e5 th {\n",
       "  text-align: left;\n",
       "}\n",
       "#T_fb2e5 tr:nth-child(even) {\n",
       "  background: #ffffff;\n",
       "  color: #231f20;\n",
       "}\n",
       "#T_fb2e5 tr:nth-child(odd) {\n",
       "  background: #dbf3ff;\n",
       "  color: #231f20;\n",
       "}\n",
       "#T_fb2e5 .level0 {\n",
       "  border: 1px black solid !important;\n",
       "  background: #ffffff;\n",
       "  color: #231f20;\n",
       "}\n",
       "#T_fb2e5_row0_col0, #T_fb2e5_row0_col1, #T_fb2e5_row0_col2, #T_fb2e5_row0_col3, #T_fb2e5_row0_col4, #T_fb2e5_row0_col5, #T_fb2e5_row0_col6, #T_fb2e5_row0_col7, #T_fb2e5_row0_col8, #T_fb2e5_row0_col9, #T_fb2e5_row0_col10, #T_fb2e5_row0_col11, #T_fb2e5_row0_col12, #T_fb2e5_row1_col0, #T_fb2e5_row1_col1, #T_fb2e5_row1_col2, #T_fb2e5_row1_col3, #T_fb2e5_row1_col4, #T_fb2e5_row1_col5, #T_fb2e5_row1_col6, #T_fb2e5_row1_col7, #T_fb2e5_row1_col8, #T_fb2e5_row1_col9, #T_fb2e5_row1_col10, #T_fb2e5_row1_col11, #T_fb2e5_row1_col12, #T_fb2e5_row2_col0, #T_fb2e5_row2_col1, #T_fb2e5_row2_col2, #T_fb2e5_row2_col3, #T_fb2e5_row2_col4, #T_fb2e5_row2_col5, #T_fb2e5_row2_col6, #T_fb2e5_row2_col7, #T_fb2e5_row2_col8, #T_fb2e5_row2_col9, #T_fb2e5_row2_col10, #T_fb2e5_row2_col11, #T_fb2e5_row2_col12, #T_fb2e5_row3_col0, #T_fb2e5_row3_col1, #T_fb2e5_row3_col2, #T_fb2e5_row3_col3, #T_fb2e5_row3_col4, #T_fb2e5_row3_col5, #T_fb2e5_row3_col6, #T_fb2e5_row3_col7, #T_fb2e5_row3_col8, #T_fb2e5_row3_col9, #T_fb2e5_row3_col10, #T_fb2e5_row3_col11, #T_fb2e5_row3_col12 {\n",
       "  text-align: left;\n",
       "  border: 1px #231f20 solid !important;\n",
       "  overwrite: False;\n",
       "}\n",
       "</style>\n",
       "<table id=\"T_fb2e5\">\n",
       "  <caption>Interfaces</caption>\n",
       "  <thead>\n",
       "    <tr>\n",
       "      <th id=\"T_fb2e5_level0_col0\" class=\"col_heading level0 col0\" >Name</th>\n",
       "      <th id=\"T_fb2e5_level0_col1\" class=\"col_heading level0 col1\" >Short Name</th>\n",
       "      <th id=\"T_fb2e5_level0_col2\" class=\"col_heading level0 col2\" >Node</th>\n",
       "      <th id=\"T_fb2e5_level0_col3\" class=\"col_heading level0 col3\" >Network</th>\n",
       "      <th id=\"T_fb2e5_level0_col4\" class=\"col_heading level0 col4\" >Bandwidth</th>\n",
       "      <th id=\"T_fb2e5_level0_col5\" class=\"col_heading level0 col5\" >Mode</th>\n",
       "      <th id=\"T_fb2e5_level0_col6\" class=\"col_heading level0 col6\" >VLAN</th>\n",
       "      <th id=\"T_fb2e5_level0_col7\" class=\"col_heading level0 col7\" >MAC</th>\n",
       "      <th id=\"T_fb2e5_level0_col8\" class=\"col_heading level0 col8\" >Physical Device</th>\n",
       "      <th id=\"T_fb2e5_level0_col9\" class=\"col_heading level0 col9\" >Device</th>\n",
       "      <th id=\"T_fb2e5_level0_col10\" class=\"col_heading level0 col10\" >IP Address</th>\n",
       "      <th id=\"T_fb2e5_level0_col11\" class=\"col_heading level0 col11\" >Numa Node</th>\n",
       "      <th id=\"T_fb2e5_level0_col12\" class=\"col_heading level0 col12\" >Switch Port</th>\n",
       "    </tr>\n",
       "  </thead>\n",
       "  <tbody>\n",
       "    <tr>\n",
       "      <td id=\"T_fb2e5_row0_col0\" class=\"data row0 col0\" >romeo-net0-p1</td>\n",
       "      <td id=\"T_fb2e5_row0_col1\" class=\"data row0 col1\" >p1</td>\n",
       "      <td id=\"T_fb2e5_row0_col2\" class=\"data row0 col2\" >romeo</td>\n",
       "      <td id=\"T_fb2e5_row0_col3\" class=\"data row0 col3\" >net0</td>\n",
       "      <td id=\"T_fb2e5_row0_col4\" class=\"data row0 col4\" >100</td>\n",
       "      <td id=\"T_fb2e5_row0_col5\" class=\"data row0 col5\" >config</td>\n",
       "      <td id=\"T_fb2e5_row0_col6\" class=\"data row0 col6\" ></td>\n",
       "      <td id=\"T_fb2e5_row0_col7\" class=\"data row0 col7\" >02:03:DF:B6:AD:B3</td>\n",
       "      <td id=\"T_fb2e5_row0_col8\" class=\"data row0 col8\" >enp7s0</td>\n",
       "      <td id=\"T_fb2e5_row0_col9\" class=\"data row0 col9\" >enp7s0</td>\n",
       "      <td id=\"T_fb2e5_row0_col10\" class=\"data row0 col10\" >10.0.0.2</td>\n",
       "      <td id=\"T_fb2e5_row0_col11\" class=\"data row0 col11\" >1</td>\n",
       "      <td id=\"T_fb2e5_row0_col12\" class=\"data row0 col12\" >HundredGigE0/0/0/4</td>\n",
       "    </tr>\n",
       "    <tr>\n",
       "      <td id=\"T_fb2e5_row1_col0\" class=\"data row1 col0\" >juliet-net1-p1</td>\n",
       "      <td id=\"T_fb2e5_row1_col1\" class=\"data row1 col1\" >p1</td>\n",
       "      <td id=\"T_fb2e5_row1_col2\" class=\"data row1 col2\" >juliet</td>\n",
       "      <td id=\"T_fb2e5_row1_col3\" class=\"data row1 col3\" >net1</td>\n",
       "      <td id=\"T_fb2e5_row1_col4\" class=\"data row1 col4\" >100</td>\n",
       "      <td id=\"T_fb2e5_row1_col5\" class=\"data row1 col5\" >config</td>\n",
       "      <td id=\"T_fb2e5_row1_col6\" class=\"data row1 col6\" ></td>\n",
       "      <td id=\"T_fb2e5_row1_col7\" class=\"data row1 col7\" >02:65:5B:30:77:C2</td>\n",
       "      <td id=\"T_fb2e5_row1_col8\" class=\"data row1 col8\" >enp7s0</td>\n",
       "      <td id=\"T_fb2e5_row1_col9\" class=\"data row1 col9\" >enp7s0</td>\n",
       "      <td id=\"T_fb2e5_row1_col10\" class=\"data row1 col10\" >10.0.1.2</td>\n",
       "      <td id=\"T_fb2e5_row1_col11\" class=\"data row1 col11\" >1</td>\n",
       "      <td id=\"T_fb2e5_row1_col12\" class=\"data row1 col12\" >HundredGigE0/0/0/16</td>\n",
       "    </tr>\n",
       "    <tr>\n",
       "      <td id=\"T_fb2e5_row2_col0\" class=\"data row2 col0\" >router-net0-p1</td>\n",
       "      <td id=\"T_fb2e5_row2_col1\" class=\"data row2 col1\" >p1</td>\n",
       "      <td id=\"T_fb2e5_row2_col2\" class=\"data row2 col2\" >router</td>\n",
       "      <td id=\"T_fb2e5_row2_col3\" class=\"data row2 col3\" >net0</td>\n",
       "      <td id=\"T_fb2e5_row2_col4\" class=\"data row2 col4\" >100</td>\n",
       "      <td id=\"T_fb2e5_row2_col5\" class=\"data row2 col5\" >config</td>\n",
       "      <td id=\"T_fb2e5_row2_col6\" class=\"data row2 col6\" ></td>\n",
       "      <td id=\"T_fb2e5_row2_col7\" class=\"data row2 col7\" >06:54:D2:B8:FE:41</td>\n",
       "      <td id=\"T_fb2e5_row2_col8\" class=\"data row2 col8\" >enp8s0</td>\n",
       "      <td id=\"T_fb2e5_row2_col9\" class=\"data row2 col9\" >enp8s0</td>\n",
       "      <td id=\"T_fb2e5_row2_col10\" class=\"data row2 col10\" >10.0.0.1</td>\n",
       "      <td id=\"T_fb2e5_row2_col11\" class=\"data row2 col11\" >1</td>\n",
       "      <td id=\"T_fb2e5_row2_col12\" class=\"data row2 col12\" >HundredGigE0/0/0/24</td>\n",
       "    </tr>\n",
       "    <tr>\n",
       "      <td id=\"T_fb2e5_row3_col0\" class=\"data row3 col0\" >router-net1-p1</td>\n",
       "      <td id=\"T_fb2e5_row3_col1\" class=\"data row3 col1\" >p1</td>\n",
       "      <td id=\"T_fb2e5_row3_col2\" class=\"data row3 col2\" >router</td>\n",
       "      <td id=\"T_fb2e5_row3_col3\" class=\"data row3 col3\" >net1</td>\n",
       "      <td id=\"T_fb2e5_row3_col4\" class=\"data row3 col4\" >100</td>\n",
       "      <td id=\"T_fb2e5_row3_col5\" class=\"data row3 col5\" >config</td>\n",
       "      <td id=\"T_fb2e5_row3_col6\" class=\"data row3 col6\" ></td>\n",
       "      <td id=\"T_fb2e5_row3_col7\" class=\"data row3 col7\" >02:5A:9F:4B:87:1F</td>\n",
       "      <td id=\"T_fb2e5_row3_col8\" class=\"data row3 col8\" >enp7s0</td>\n",
       "      <td id=\"T_fb2e5_row3_col9\" class=\"data row3 col9\" >enp7s0</td>\n",
       "      <td id=\"T_fb2e5_row3_col10\" class=\"data row3 col10\" >10.0.1.1</td>\n",
       "      <td id=\"T_fb2e5_row3_col11\" class=\"data row3 col11\" >1</td>\n",
       "      <td id=\"T_fb2e5_row3_col12\" class=\"data row3 col12\" >HundredGigE0/0/0/24</td>\n",
       "    </tr>\n",
       "  </tbody>\n",
       "</table>\n"
      ],
      "text/plain": [
       "<pandas.io.formats.style.Styler at 0x7bd0706bff10>"
      ]
     },
     "metadata": {},
     "output_type": "display_data"
    },
    {
     "name": "stdout",
     "output_type": "stream",
     "text": [
      "\n",
      "Time to print interfaces 54 seconds\n"
     ]
    }
   ],
   "source": [
    "from datetime import datetime\n",
    "from datetime import timezone\n",
    "from datetime import timedelta\n",
    "\n",
    "# Set end date to 3 days from now\n",
    "end_date = (datetime.now(timezone.utc) + timedelta(days=3)).strftime(\"%Y-%m-%d %H:%M:%S %z\")\n",
    "slice.renew(end_date)"
   ]
  },
  {
   "cell_type": "markdown",
   "metadata": {},
   "source": [
    "Confirm the new end time of your slice in the output of the following cell:"
   ]
  },
  {
   "cell_type": "code",
   "execution_count": 27,
   "metadata": {},
   "outputs": [
    {
     "data": {
      "text/html": [
       "<style type=\"text/css\">\n",
       "#T_0bfe2 tr:nth-child(even) {\n",
       "  background: #dbf3ff;\n",
       "  color: #231f20;\n",
       "}\n",
       "#T_0bfe2 tr:nth-child(odd) {\n",
       "  background: #ffffff;\n",
       "  color: #231f20;\n",
       "}\n",
       "#T_0bfe2 caption {\n",
       "  text-align: center;\n",
       "  font-size: 150%;\n",
       "}\n",
       "#T_0bfe2_row0_col0, #T_0bfe2_row0_col1, #T_0bfe2_row1_col0, #T_0bfe2_row1_col1, #T_0bfe2_row2_col0, #T_0bfe2_row2_col1, #T_0bfe2_row3_col0, #T_0bfe2_row3_col1, #T_0bfe2_row4_col0, #T_0bfe2_row4_col1, #T_0bfe2_row5_col0, #T_0bfe2_row5_col1, #T_0bfe2_row6_col0, #T_0bfe2_row6_col1, #T_0bfe2_row7_col0, #T_0bfe2_row7_col1 {\n",
       "  text-align: left;\n",
       "  border: 1px #231f20 solid !important;\n",
       "  overwrite: False;\n",
       "}\n",
       "</style>\n",
       "<table id=\"T_0bfe2\">\n",
       "  <caption>Slice</caption>\n",
       "  <thead>\n",
       "  </thead>\n",
       "  <tbody>\n",
       "    <tr>\n",
       "      <td id=\"T_0bfe2_row0_col0\" class=\"data row0 col0\" >ID</td>\n",
       "      <td id=\"T_0bfe2_row0_col1\" class=\"data row0 col1\" >ca9b224e-f300-448b-bf65-47067046646d</td>\n",
       "    </tr>\n",
       "    <tr>\n",
       "      <td id=\"T_0bfe2_row1_col0\" class=\"data row1 col0\" >Name</td>\n",
       "      <td id=\"T_0bfe2_row1_col1\" class=\"data row1 col1\" >hello-fabric_hun13_0000132578</td>\n",
       "    </tr>\n",
       "    <tr>\n",
       "      <td id=\"T_0bfe2_row2_col0\" class=\"data row2 col0\" >Lease Expiration (UTC)</td>\n",
       "      <td id=\"T_0bfe2_row2_col1\" class=\"data row2 col1\" >2025-08-22 19:20:12 +0000</td>\n",
       "    </tr>\n",
       "    <tr>\n",
       "      <td id=\"T_0bfe2_row3_col0\" class=\"data row3 col0\" >Lease Start (UTC)</td>\n",
       "      <td id=\"T_0bfe2_row3_col1\" class=\"data row3 col1\" >2025-08-20 19:05:33 +0000</td>\n",
       "    </tr>\n",
       "    <tr>\n",
       "      <td id=\"T_0bfe2_row4_col0\" class=\"data row4 col0\" >Project ID</td>\n",
       "      <td id=\"T_0bfe2_row4_col1\" class=\"data row4 col1\" >a045503e-d19d-434e-93b1-08b8aad3d5d1</td>\n",
       "    </tr>\n",
       "    <tr>\n",
       "      <td id=\"T_0bfe2_row5_col0\" class=\"data row5 col0\" >State</td>\n",
       "      <td id=\"T_0bfe2_row5_col1\" class=\"data row5 col1\" >StableOK</td>\n",
       "    </tr>\n",
       "    <tr>\n",
       "      <td id=\"T_0bfe2_row6_col0\" class=\"data row6 col0\" >Email</td>\n",
       "      <td id=\"T_0bfe2_row6_col1\" class=\"data row6 col1\" >HUN13@pitt.edu</td>\n",
       "    </tr>\n",
       "    <tr>\n",
       "      <td id=\"T_0bfe2_row7_col0\" class=\"data row7 col0\" >UserId</td>\n",
       "      <td id=\"T_0bfe2_row7_col1\" class=\"data row7 col1\" >0d94c21b-92a3-4e56-84de-be18169665eb</td>\n",
       "    </tr>\n",
       "  </tbody>\n",
       "</table>\n"
      ],
      "text/plain": [
       "<pandas.io.formats.style.Styler at 0x7bd07075f510>"
      ]
     },
     "metadata": {},
     "output_type": "display_data"
    }
   ],
   "source": [
    "slice.update()\n",
    "_ = slice.show()"
   ]
  },
  {
   "cell_type": "markdown",
   "metadata": {},
   "source": [
    "You can extend your slice again anytime before these 3 days have elapsed, if you need more time."
   ]
  },
  {
   "cell_type": "markdown",
   "metadata": {},
   "source": [
    "### Delete your slice"
   ]
  },
  {
   "cell_type": "markdown",
   "metadata": {},
   "source": [
    "When you finish your experiment, you should delete your slice! The following cells deletes all the resources in your slice, freeing them for other experimenters."
   ]
  },
  {
   "cell_type": "code",
   "execution_count": 28,
   "metadata": {},
   "outputs": [],
   "source": [
    "slice = fablib.get_slice(name=slice_name)\n",
    "fablib.delete_slice(slice_name)"
   ]
  },
  {
   "cell_type": "code",
   "execution_count": 31,
   "metadata": {},
   "outputs": [
    {
     "data": {
      "text/html": [
       "<style type=\"text/css\">\n",
       "#T_693f3 tr:nth-child(even) {\n",
       "  background: #dbf3ff;\n",
       "  color: #231f20;\n",
       "}\n",
       "#T_693f3 tr:nth-child(odd) {\n",
       "  background: #ffffff;\n",
       "  color: #231f20;\n",
       "}\n",
       "#T_693f3 caption {\n",
       "  text-align: center;\n",
       "  font-size: 150%;\n",
       "}\n",
       "#T_693f3_row0_col0, #T_693f3_row0_col1, #T_693f3_row1_col0, #T_693f3_row1_col1, #T_693f3_row2_col0, #T_693f3_row2_col1, #T_693f3_row3_col0, #T_693f3_row3_col1, #T_693f3_row4_col0, #T_693f3_row4_col1, #T_693f3_row5_col0, #T_693f3_row5_col1, #T_693f3_row6_col0, #T_693f3_row6_col1, #T_693f3_row7_col0, #T_693f3_row7_col1 {\n",
       "  text-align: left;\n",
       "  border: 1px #231f20 solid !important;\n",
       "  overwrite: False;\n",
       "}\n",
       "</style>\n",
       "<table id=\"T_693f3\">\n",
       "  <caption>Slice</caption>\n",
       "  <thead>\n",
       "  </thead>\n",
       "  <tbody>\n",
       "    <tr>\n",
       "      <td id=\"T_693f3_row0_col0\" class=\"data row0 col0\" >ID</td>\n",
       "      <td id=\"T_693f3_row0_col1\" class=\"data row0 col1\" >ca9b224e-f300-448b-bf65-47067046646d</td>\n",
       "    </tr>\n",
       "    <tr>\n",
       "      <td id=\"T_693f3_row1_col0\" class=\"data row1 col0\" >Name</td>\n",
       "      <td id=\"T_693f3_row1_col1\" class=\"data row1 col1\" >hello-fabric_hun13_0000132578</td>\n",
       "    </tr>\n",
       "    <tr>\n",
       "      <td id=\"T_693f3_row2_col0\" class=\"data row2 col0\" >Lease Expiration (UTC)</td>\n",
       "      <td id=\"T_693f3_row2_col1\" class=\"data row2 col1\" >2025-08-22 19:20:12 +0000</td>\n",
       "    </tr>\n",
       "    <tr>\n",
       "      <td id=\"T_693f3_row3_col0\" class=\"data row3 col0\" >Lease Start (UTC)</td>\n",
       "      <td id=\"T_693f3_row3_col1\" class=\"data row3 col1\" >2025-08-20 19:05:33 +0000</td>\n",
       "    </tr>\n",
       "    <tr>\n",
       "      <td id=\"T_693f3_row4_col0\" class=\"data row4 col0\" >Project ID</td>\n",
       "      <td id=\"T_693f3_row4_col1\" class=\"data row4 col1\" >a045503e-d19d-434e-93b1-08b8aad3d5d1</td>\n",
       "    </tr>\n",
       "    <tr>\n",
       "      <td id=\"T_693f3_row5_col0\" class=\"data row5 col0\" >State</td>\n",
       "      <td id=\"T_693f3_row5_col1\" class=\"data row5 col1\" >Dead</td>\n",
       "    </tr>\n",
       "    <tr>\n",
       "      <td id=\"T_693f3_row6_col0\" class=\"data row6 col0\" >Email</td>\n",
       "      <td id=\"T_693f3_row6_col1\" class=\"data row6 col1\" >HUN13@pitt.edu</td>\n",
       "    </tr>\n",
       "    <tr>\n",
       "      <td id=\"T_693f3_row7_col0\" class=\"data row7 col0\" >UserId</td>\n",
       "      <td id=\"T_693f3_row7_col1\" class=\"data row7 col1\" >0d94c21b-92a3-4e56-84de-be18169665eb</td>\n",
       "    </tr>\n",
       "  </tbody>\n",
       "</table>\n"
      ],
      "text/plain": [
       "<pandas.io.formats.style.Styler at 0x7bd070243490>"
      ]
     },
     "metadata": {},
     "output_type": "display_data"
    }
   ],
   "source": [
    "# slice should end up in \"Dead\" state\n",
    "# re-run this cell until you see it in \"Dead\" state\n",
    "slice.update()\n",
    "_ = slice.show()"
   ]
  },
  {
   "cell_type": "markdown",
   "metadata": {},
   "source": [
    "### Acknowledgment\n",
    "Adapted from [Teaching on Testbeds](https://teaching-on-testbeds.github.io/hello-fabric/)'s page [\"Hello, FABRIC\"](https://teaching-on-testbeds.github.io/hello-fabric/)."
   ]
  }
 ],
 "metadata": {
  "kernelspec": {
   "display_name": "Python 3 (ipykernel)",
   "language": "python",
   "name": "python3"
  },
  "language_info": {
   "codemirror_mode": {
    "name": "ipython",
    "version": 3
   },
   "file_extension": ".py",
   "mimetype": "text/x-python",
   "name": "python",
   "nbconvert_exporter": "python",
   "pygments_lexer": "ipython3",
   "version": "3.11.9"
  }
 },
 "nbformat": 4,
 "nbformat_minor": 4
}
