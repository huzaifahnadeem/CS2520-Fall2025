{
 "cells": [
  {
   "cell_type": "markdown",
   "id": "62ace6c9",
   "metadata": {},
   "source": [
    "### Deleting your slice"
   ]
  },
  {
   "cell_type": "markdown",
   "id": "6f3e0f4b",
   "metadata": {},
   "source": [
    "When you finish your experiment, you should delete your slice! The following cells deletes all the resources in your slice, freeing them for other experimenters."
   ]
  },
  {
   "cell_type": "markdown",
   "id": "0d48ac26",
   "metadata": {},
   "source": [
    "The following cells show you how to delete your slice when you are done with the experiments. Uncomment the lines and run it when you want to delete your slices. Please only run these after lab.\n"
   ]
  },
  {
   "cell_type": "code",
   "execution_count": null,
   "id": "864f4bcb",
   "metadata": {},
   "outputs": [],
   "source": [
    "# set up for the fabric package:\n",
    "from fabrictestbed_extensions.fablib.fablib import FablibManager as fablib_manager\n",
    "fablib = fablib_manager() \n",
    "conf = fablib.show_config()"
   ]
  },
  {
   "cell_type": "code",
   "execution_count": null,
   "id": "f24fc72d",
   "metadata": {},
   "outputs": [],
   "source": [
    "slice_name=\"tcp_congestion_control-\" + fablib.get_bastion_username()\n",
    "slice = fablib.get_slice(name=slice_name)\n",
    "fablib.delete_slice(slice_name)"
   ]
  },
  {
   "cell_type": "code",
   "execution_count": null,
   "id": "9270f908",
   "metadata": {},
   "outputs": [],
   "source": [
    "# slice should end up in \"Dead\" state\n",
    "# re-run this cell until you see it in \"Dead\" state\n",
    "slice.update()\n",
    "_ = slice.show()"
   ]
  }
 ],
 "metadata": {
  "language_info": {
   "name": "python"
  }
 },
 "nbformat": 4,
 "nbformat_minor": 5
}
