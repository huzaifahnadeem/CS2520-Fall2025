{
 "cells": [
  {
   "cell_type": "markdown",
   "id": "5bc402fb-9ec3-49db-89d3-a2d5e97a8b27",
   "metadata": {},
   "source": [
    "# Pre-Lab 1: TCP Congestion Control"
   ]
  },
  {
   "cell_type": "markdown",
   "id": "65aec0d3-4707-4214-b999-c894eec7753c",
   "metadata": {},
   "source": [
    "**Prerequisites**: This material assumes you have already configured your FABRIC account following the provided instructions.\n",
    "\n",
    "The purpose of this notebook is to let you reserve resources in advance for the lab. Go through this notebook and run all the cells.\n",
    "\n",
    "In this notebook you will:\n",
    "\n",
    "-   Reserve resources for lab 1\n",
    "-   Configure your reserved resources\n",
    "-   Access your reserved resources over SSH\n",
    "-   Learn how to extend your FABRIC reservation (in case you need more time) or delete it (in case you finish early)"
   ]
  },
  {
   "cell_type": "markdown",
   "id": "e4140df0-57f8-4fe0-814e-737e15f16a8a",
   "metadata": {},
   "source": [
    "### Configure environment"
   ]
  },
  {
   "cell_type": "code",
   "execution_count": null,
   "id": "ed7df9ef-64a1-4b6b-9f24-03ffc5aacf27",
   "metadata": {},
   "outputs": [],
   "source": [
    "from fabrictestbed_extensions.fablib.fablib import FablibManager as fablib_manager\n",
    "fablib = fablib_manager() \n",
    "conf = fablib.show_config()"
   ]
  },
  {
   "cell_type": "markdown",
   "id": "34b4a38a-43fc-4d5a-b239-edbe68aadd24",
   "metadata": {},
   "source": [
    "### Define configuration for this experiment (two hosts and router in line topology)"
   ]
  },
  {
   "cell_type": "code",
   "execution_count": null,
   "id": "ca211927-1268-44d2-b63c-602e1d4cd03c",
   "metadata": {},
   "outputs": [],
   "source": [
    "slice_name=\"tcp_congestion_control-\" + fablib.get_bastion_username()\n",
    "\n",
    "node_conf = [\n",
    " {'name': \"romeo\",   'cores': 2, 'ram': 4, 'disk': 10, 'image': 'default_ubuntu_22', 'packages': []}, \n",
    " {'name': \"juliet\",  'cores': 2, 'ram': 4, 'disk': 10, 'image': 'default_ubuntu_22', 'packages': []}, \n",
    " {'name': \"router\",  'cores': 2, 'ram': 4, 'disk': 10, 'image': 'default_ubuntu_22', 'packages': []}\n",
    "]\n",
    "net_conf = [\n",
    " {\"name\": \"net1\", \"subnet\": \"10.10.1.0/24\", \"nodes\": [{\"name\": \"romeo\",   \"addr\": \"10.10.1.100\"}, {\"name\": \"router\", \"addr\": \"10.10.1.1\"}]},\n",
    " {\"name\": \"net2\", \"subnet\": \"10.10.2.0/24\", \"nodes\": [{\"name\": \"juliet\",  \"addr\": \"10.10.2.100\"}, {\"name\": \"router\", \"addr\": \"10.10.2.1\"}]}\n",
    "]\n",
    "route_conf = [\n",
    " {\"addr\": \"10.10.2.0/24\", \"gw\": \"10.10.1.1\", \"nodes\": [\"romeo\"]},\n",
    " {\"addr\": \"10.10.1.0/24\", \"gw\": \"10.10.2.1\", \"nodes\": [\"juliet\"]}\n",
    "]\n",
    "exp_conf = {'cores': sum([ n['cores'] for n in node_conf]), 'nic': sum([len(n['nodes']) for n in net_conf]) }"
   ]
  },
  {
   "cell_type": "markdown",
   "id": "6d911fe4-b0e5-4175-964f-fedf219db7d7",
   "metadata": {},
   "source": [
    "### Reserve resources\n",
    "\n",
    "Now, we are ready to reserve resources!"
   ]
  },
  {
   "cell_type": "markdown",
   "id": "c382d34e-4b12-469f-b6f5-27270bf74007",
   "metadata": {},
   "source": [
    "First, make sure you don’t already have a slice with this name:"
   ]
  },
  {
   "cell_type": "code",
   "execution_count": null,
   "id": "9fe7f667-aea0-46ed-b49c-ab18bf7df04f",
   "metadata": {},
   "outputs": [],
   "source": [
    "try:\n",
    "    slice = fablib.get_slice(slice_name)\n",
    "    print(\"You already have a slice by this name!\")\n",
    "    print(\"If you previously reserved resources, skip to the 'log in to resources' section.\")\n",
    "except:\n",
    "    print(\"You don't have a slice named %s yet.\" % slice_name)\n",
    "    print(\"Continue to the next step to make one.\")\n",
    "    slice = fablib.new_slice(name=slice_name)"
   ]
  },
  {
   "cell_type": "markdown",
   "id": "0dcb55c5-f6ea-46b8-bf70-948133e7b75e",
   "metadata": {},
   "source": [
    "We will reserve resources for our experiment at the EDUKY site:"
   ]
  },
  {
   "cell_type": "code",
   "execution_count": null,
   "id": "ab0a80ca-9e60-4257-907d-a89505ba718a",
   "metadata": {},
   "outputs": [],
   "source": [
    "site_name = 'EDUKY'\n",
    "fablib.show_site(site_name)"
   ]
  },
  {
   "cell_type": "markdown",
   "id": "0478a351-42cd-4e8f-bd74-f9c184284f51",
   "metadata": {},
   "source": [
    "Then we will add hosts and network segments:"
   ]
  },
  {
   "cell_type": "code",
   "execution_count": null,
   "id": "5b118bed-c683-44ec-b9a4-c7323b620e9c",
   "metadata": {},
   "outputs": [],
   "source": [
    "# this cell sets up the nodes\n",
    "for n in node_conf:\n",
    "    slice.add_node(name=n['name'], site=site_name, \n",
    "                   cores=n['cores'], \n",
    "                   ram=n['ram'], \n",
    "                   disk=n['disk'], \n",
    "                   image=n['image'])"
   ]
  },
  {
   "cell_type": "code",
   "execution_count": null,
   "id": "8349b2e0-ccaf-43cd-8724-6333cd625b0a",
   "metadata": {},
   "outputs": [],
   "source": [
    "# this cell sets up the network segments\n",
    "for n in net_conf:\n",
    "    ifaces = [slice.get_node(node[\"name\"]).add_component(model=\"NIC_Basic\", \n",
    "                                                 name=n[\"name\"]).get_interfaces()[0] for node in n['nodes'] ]\n",
    "    slice.add_l2network(name=n[\"name\"], type='L2Bridge', interfaces=ifaces)"
   ]
  },
  {
   "cell_type": "markdown",
   "id": "255361b4-2232-4916-8bf1-e5c81cd232b6",
   "metadata": {},
   "source": [
    "The following cell submits our request to the FABRIC site. The output of this cell will update automatically as the status of our request changes.\n",
    "\n",
    "-   While it is being prepared, the “State” of the slice will appear as “Configuring”.\n",
    "-   When it is ready, the “State” of the slice will change to “StableOK”.\n",
    "\n",
    "You may prefer to walk away and come back in a few minutes (for simple slices) or a few tens of minutes (for more complicated slices with many resources)."
   ]
  },
  {
   "cell_type": "code",
   "execution_count": null,
   "id": "a77cd160-36f8-4b69-82a2-b623b5d55e10",
   "metadata": {},
   "outputs": [],
   "source": [
    "slice.submit()"
   ]
  },
  {
   "cell_type": "code",
   "execution_count": null,
   "id": "b3ba496f-27de-4d47-927b-cf690f566db8",
   "metadata": {},
   "outputs": [],
   "source": [
    "slice.get_state()\n",
    "slice.wait_ssh(progress=True)"
   ]
  },
  {
   "cell_type": "markdown",
   "id": "f7d66220-9da0-4592-bc44-5b52ffac23ee",
   "metadata": {},
   "source": [
    "### Configure resources\n",
    "\n",
    "Next, we will configure the resources so they are ready to use."
   ]
  },
  {
   "cell_type": "code",
   "execution_count": null,
   "id": "d55e3ded-da0d-4719-a315-5e315dc55687",
   "metadata": {},
   "outputs": [],
   "source": [
    "slice = fablib.get_slice(name=slice_name)"
   ]
  },
  {
   "cell_type": "code",
   "execution_count": null,
   "id": "abf386ef-6173-4beb-9705-d7b97d7af8ee",
   "metadata": {},
   "outputs": [],
   "source": [
    "# install packages\n",
    "# this will take a while and will run in background while you do other steps\n",
    "for n in node_conf:\n",
    "    if len(n['packages']):\n",
    "        node = slice.get_node(n['name'])\n",
    "        pkg = \" \".join(n['packages'])\n",
    "        node.execute_thread(\"sudo apt update; sudo DEBIAN_FRONTEND=noninteractive apt -y install %s\" % pkg)"
   ]
  },
  {
   "cell_type": "code",
   "execution_count": null,
   "id": "4b242bcb-5941-4a2d-828f-14862be56823",
   "metadata": {},
   "outputs": [],
   "source": [
    "# bring interfaces up and either assign an address (if there is one) or flush address\n",
    "from ipaddress import ip_address, IPv4Address, IPv4Network\n",
    "\n",
    "for net in net_conf:\n",
    "    for n in net['nodes']:\n",
    "        if_name = n['name'] + '-' + net['name'] + '-p1'\n",
    "        iface = slice.get_interface(if_name)\n",
    "        iface.ip_link_up()\n",
    "        if n['addr']:\n",
    "            iface.ip_addr_add(addr=n['addr'], subnet=IPv4Network(net['subnet']))\n",
    "        else:\n",
    "            iface.get_node().execute(\"sudo ip addr flush dev %s\"  % iface.get_device_name())"
   ]
  },
  {
   "cell_type": "code",
   "execution_count": null,
   "id": "2a52bd46-1488-4d65-9e65-b9f4f6356e99",
   "metadata": {},
   "outputs": [],
   "source": [
    "# make sure all interfaces are brought up\n",
    "for iface in slice.get_interfaces():\n",
    "    iface.ip_link_up()"
   ]
  },
  {
   "cell_type": "code",
   "execution_count": null,
   "id": "65693812-dbad-4992-a79c-c07009e61108",
   "metadata": {},
   "outputs": [],
   "source": [
    "# prepare a \"hosts\" file that has names and addresses of every node\n",
    "hosts_txt = [ \"%s\\t%s\" % ( n['addr'], n['name'] ) for net in net_conf  for n in net['nodes'] if type(n) is dict and n['addr']]\n",
    "for n in slice.get_nodes():\n",
    "    for h in hosts_txt:\n",
    "        n.execute(\"echo %s | sudo tee -a /etc/hosts\" % h)"
   ]
  },
  {
   "cell_type": "code",
   "execution_count": null,
   "id": "fe6baa8d-9dc0-4b53-a0f0-99f09eb72c34",
   "metadata": {},
   "outputs": [],
   "source": [
    "# enable IPv4 forwarding on all nodes\n",
    "for n in slice.get_nodes():\n",
    "    n.execute(\"sudo sysctl -w net.ipv4.ip_forward=1\")"
   ]
  },
  {
   "cell_type": "code",
   "execution_count": null,
   "id": "f250524c-137d-4687-9022-18648759d970",
   "metadata": {},
   "outputs": [],
   "source": [
    "# set up static routes\n",
    "for rt in route_conf:\n",
    "    for n in rt['nodes']:\n",
    "        slice.get_node(name=n).ip_route_add(subnet=IPv4Network(rt['addr']), gateway=rt['gw'])"
   ]
  },
  {
   "cell_type": "code",
   "execution_count": null,
   "id": "ee513a30-2f31-4174-833a-8942db60d628",
   "metadata": {},
   "outputs": [],
   "source": [
    "# turn off segmentation offload on interfaces\n",
    "for iface in slice.get_interfaces():\n",
    "    iface_name = iface.get_device_name()\n",
    "    n = iface.get_node()\n",
    "    offloads = [\"gro\", \"lro\", \"gso\", \"tso\"]\n",
    "    for offload in offloads:\n",
    "        n.execute(\"sudo ethtool -K %s %s off\" % (iface_name, offload))"
   ]
  },
  {
   "cell_type": "markdown",
   "id": "51056f07-13a5-4113-afd8-64ea106c9bde",
   "metadata": {},
   "source": [
    "### Draw the network topology"
   ]
  },
  {
   "cell_type": "markdown",
   "id": "059701c1-2c51-4f90-b77f-70eabdcf172b",
   "metadata": {},
   "source": [
    "The following cell will draw the network topology, for your reference. The interface name and addresses of each experiment interface will be shown on the drawing."
   ]
  },
  {
   "cell_type": "code",
   "execution_count": null,
   "id": "0e0b2bf7-b1e7-47bb-be32-fe375cbc8913",
   "metadata": {},
   "outputs": [],
   "source": [
    "l2_nets = [(n.get_name(), {'color': 'lavender'}) for n in slice.get_l2networks() ]\n",
    "l3_nets = [(n.get_name(), {'color': 'pink'}) for n in slice.get_l3networks() ]\n",
    "hosts   =   [(n.get_name(), {'color': 'lightblue'}) for n in slice.get_nodes()]\n",
    "nodes = l2_nets + l3_nets + hosts\n",
    "ifaces = [iface.toDict() for iface in slice.get_interfaces()]\n",
    "edges = [(iface['network'], iface['node'], \n",
    "          {'label': iface['physical_dev'] + '\\n' + iface['ip_addr'] + '\\n' + iface['mac']}) for iface in ifaces]"
   ]
  },
  {
   "cell_type": "code",
   "execution_count": null,
   "id": "153b061f-b899-4239-9b6a-d95332548c28",
   "metadata": {},
   "outputs": [],
   "source": [
    "import networkx as nx\n",
    "import matplotlib.pyplot as plt\n",
    "plt.figure(figsize=(len(nodes),len(nodes)))\n",
    "G = nx.Graph()\n",
    "G.add_nodes_from(nodes)\n",
    "G.add_edges_from(edges)\n",
    "pos = nx.spring_layout(G)\n",
    "nx.draw(G, pos, node_shape='s',  \n",
    "        node_color=[n[1]['color'] for n in nodes], \n",
    "        node_size=[len(n[0])*400 for n in nodes],  \n",
    "        with_labels=True);\n",
    "nx.draw_networkx_edge_labels(G,pos,\n",
    "                             edge_labels=nx.get_edge_attributes(G,'label'),\n",
    "                             font_color='gray',  font_size=8, rotate=False);"
   ]
  },
  {
   "cell_type": "markdown",
   "id": "ad33b98f-7511-4e15-9623-97de2c76c343",
   "metadata": {},
   "source": [
    "### Log into resources"
   ]
  },
  {
   "cell_type": "markdown",
   "id": "81a450de-1d78-4f4a-898d-4768428f90ea",
   "metadata": {},
   "source": [
    "Now, we are finally ready to log in to our resources over SSH! Run the following cells, and observe the table output - you will see an SSH command for each of the resources in your topology."
   ]
  },
  {
   "cell_type": "code",
   "execution_count": null,
   "id": "84cf9ac7-898f-47e6-b2f2-0c5ea0b1ca1a",
   "metadata": {},
   "outputs": [],
   "source": [
    "import pandas as pd\n",
    "pd.set_option('display.max_colwidth', None)\n",
    "slice_info = [{'Name': n.get_name(), 'SSH command': n.get_ssh_command()} for n in slice.get_nodes()]\n",
    "pd.DataFrame(slice_info).set_index('Name')"
   ]
  },
  {
   "cell_type": "markdown",
   "id": "54e55322-e9ca-4293-9564-b52e3fe1e37e",
   "metadata": {},
   "source": [
    "Now, you can open an SSH session on any of the resources as follows:\n",
    "\n",
    "-   in Jupyter, from the menu bar, use File \\> New \\> Terminal to open a new terminal.\n",
    "-   copy an SSH command from the table, and paste it into the terminal. (Note that each SSH command is a single line, even if the display wraps the text to a second line! When you copy and paste it, paste it all together.)\n",
    "\n",
    "You can repeat this process (open several terminals) to start a session on each resource. Each terminal session will have a tab in the Jupyter environment, so that you can easily switch between them."
   ]
  },
  {
   "cell_type": "markdown",
   "id": "f400eae9",
   "metadata": {},
   "source": [
    "### Install required utilities on the nodes for the lab\n",
    "On the end hosts (\"romeo\" and \"juliet\"), install the `iperf` network testing tool, with the command\n",
    "\n",
    "```\n",
    "sudo apt update\n",
    "sudo apt -y install iperf3\n",
    "```\n",
    "\n",
    "On romeo, we'll also install the `moreutils` utility, which will help us with data collection, and some other tools for data visualization:\n",
    "\n",
    "```\n",
    "sudo apt -y install moreutils libjpeg-dev\n",
    "```\n",
    "\n",
    "If you get a prompt about \"Daemon using outdated libraries\", you can press escape to cancel that and move on.\n",
    "\n",
    "and configure an additional setting:\n",
    "\n",
    "```\n",
    "sudo sysctl -w net.ipv4.tcp_no_metrics_save=1\n",
    "```\n",
    "\n",
    "Now, we will configure the \"router\" node. Run the following commands in an SSH session on the \"router\" to configure it as a 1 Mbps bottleneck, with a buffer size of 0.1 MB, in both directions:\n",
    "\n",
    "```\n",
    "iface\\_0=$(ip route get 10.10.1.100 | grep -oP \"(?<=dev )\\[^ \\]+\") \n",
    "sudo tc qdisc del dev $iface\\_0 root \n",
    "sudo tc qdisc add dev $iface\\_0 root handle 1: htb default 3 \n",
    "sudo tc class add dev $iface\\_0 parent 1: classid 1:3 htb rate 1Mbit \n",
    "sudo tc qdisc add dev $iface\\_0 parent 1:3 handle 3: bfifo limit 0.1MB \n",
    "```\n",
    "\n",
    "```\n",
    "iface\\_1=$(ip route get 10.10.2.100 | grep -oP \"(?<=dev )\\[^ \\]+\") \n",
    "sudo tc qdisc del dev $iface\\_1 root \n",
    "sudo tc qdisc add dev $iface\\_1 root handle 1: htb default 3\n",
    "sudo tc class add dev $iface\\_1 parent 1: classid 1:3 htb rate 1Mbit \n",
    "sudo tc qdisc add dev $iface\\_1 parent 1:3 handle 3: bfifo limit 0.1MB\n",
    "```\n",
    "\n",
    "Don't worry if you see a message in the output that says\n",
    "\n",
    "```\n",
    "Error: Cannot delete qdisc with handle of zero.\n",
    "```\n",
    "\n",
    "or\n",
    "\n",
    "```\n",
    "RTNETLINK answers: No such file or directory\n",
    "```\n",
    "\n",
    "This is normal, and not a problem!"
   ]
  },
  {
   "cell_type": "markdown",
   "id": "2bcc7f4b",
   "metadata": {},
   "source": [
    "### Extend your slice\n",
    "\n",
    "If you don’t plan to finish an experiment in one day, you can extend your slice. The following cell extends your reservation for 7 days."
   ]
  },
  {
   "cell_type": "code",
   "execution_count": null,
   "id": "2bdbb9f2",
   "metadata": {},
   "outputs": [],
   "source": [
    "from datetime import datetime\n",
    "from datetime import timezone\n",
    "from datetime import timedelta\n",
    "\n",
    "# Set end date to 7 days from now\n",
    "end_date = (datetime.now(timezone.utc) + timedelta(days=7)).strftime(\"%Y-%m-%d %H:%M:%S %z\")\n",
    "slice.renew(end_date)"
   ]
  },
  {
   "cell_type": "markdown",
   "id": "5050577c",
   "metadata": {},
   "source": [
    "Confirm the new end time of your slice in the output of the following cell:"
   ]
  },
  {
   "cell_type": "code",
   "execution_count": null,
   "id": "e4f51809",
   "metadata": {},
   "outputs": [],
   "source": [
    "slice.update()\n",
    "_ = slice.show()"
   ]
  },
  {
   "cell_type": "markdown",
   "id": "0f843c50",
   "metadata": {},
   "source": [
    "You can extend your slice again anytime before these 7 days have elapsed, if you need more time."
   ]
  },
  {
   "cell_type": "markdown",
   "id": "628b6c6a",
   "metadata": {},
   "source": [
    "### Acknowledgment\n",
    "Adapted from [Wireless Implementation Testbed Lab](https://witestlab.poly.edu/blog/)'s experiments."
   ]
  }
 ],
 "metadata": {
  "kernelspec": {
   "display_name": "Python 3 (ipykernel)",
   "language": "python",
   "name": "python3"
  },
  "language_info": {
   "codemirror_mode": {
    "name": "ipython",
    "version": 3
   },
   "file_extension": ".py",
   "mimetype": "text/x-python",
   "name": "python",
   "nbconvert_exporter": "python",
   "pygments_lexer": "ipython3",
   "version": "3.11.9"
  }
 },
 "nbformat": 4,
 "nbformat_minor": 5
}
